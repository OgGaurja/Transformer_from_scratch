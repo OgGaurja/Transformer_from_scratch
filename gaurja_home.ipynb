{
 "cells": [
  {
   "cell_type": "code",
   "execution_count": 2,
   "metadata": {},
   "outputs": [],
   "source": [
    "import torch\n",
    "import torch.nn as nn\n",
    "import math"
   ]
  },
  {
   "cell_type": "markdown",
   "metadata": {},
   "source": [
    "# nn.Embeddings()\n",
    "- input: vocab_size(max word index permissible) , dim of each embedding"
   ]
  },
  {
   "cell_type": "code",
   "execution_count": 3,
   "metadata": {},
   "outputs": [
    {
     "ename": "TypeError",
     "evalue": "Embedding.__init__() missing 2 required positional arguments: 'num_embeddings' and 'embedding_dim'",
     "output_type": "error",
     "traceback": [
      "\u001b[1;31m---------------------------------------------------------------------------\u001b[0m",
      "\u001b[1;31mTypeError\u001b[0m                                 Traceback (most recent call last)",
      "Cell \u001b[1;32mIn[3], line 1\u001b[0m\n\u001b[1;32m----> 1\u001b[0m \u001b[43mnn\u001b[49m\u001b[38;5;241;43m.\u001b[39;49m\u001b[43mEmbedding\u001b[49m\u001b[43m(\u001b[49m\u001b[43m)\u001b[49m\n",
      "\u001b[1;31mTypeError\u001b[0m: Embedding.__init__() missing 2 required positional arguments: 'num_embeddings' and 'embedding_dim'"
     ]
    }
   ],
   "source": [
    "vocab_size = 1000\n",
    "dim = 512\n",
    "nn.Embedding(num_embeddings= vocab_size, embedding_dim= )"
   ]
  },
  {
   "cell_type": "markdown",
   "metadata": {},
   "source": [
    "## To convert a sentence into torch.tensor of word of indices using pre built tokenizers and vocabularies\n"
   ]
  },
  {
   "cell_type": "code",
   "execution_count": 8,
   "metadata": {},
   "outputs": [],
   "source": [
    "import torchtext\n",
    "#pip install torchtext\n",
    "\n",
    "from torchtext.data import get_tokenizer\n",
    "from torchtext.vocab import build_vocab_from_iterator"
   ]
  },
  {
   "cell_type": "code",
   "execution_count": 12,
   "metadata": {},
   "outputs": [],
   "source": [
    "# import librariess\n",
    "# torchtext comes with default tokenizer = \"basic_english\"\n",
    "# other tokenizers such as Spacy ??\n",
    "tokenizer = get_tokenizer(tokenizer=\"basic_english\")\n"
   ]
  },
  {
   "cell_type": "code",
   "execution_count": 13,
   "metadata": {},
   "outputs": [
    {
     "data": {
      "text/plain": [
       "<function torchtext.data.utils._basic_english_normalize(line)>"
      ]
     },
     "execution_count": 13,
     "metadata": {},
     "output_type": "execute_result"
    }
   ],
   "source": [
    "tokenizer"
   ]
  },
  {
   "cell_type": "code",
   "execution_count": 44,
   "metadata": {},
   "outputs": [
    {
     "name": "stdout",
     "output_type": "stream",
     "text": [
      "[['hello', 'world'], ['this', 'is', 'a', 'test'], ['how', 'are', 'you', 'doing'], ['hello', 'again']]\n"
     ]
    }
   ],
   "source": [
    "# build a vocabulary\n",
    "\n",
    "sentences = [\n",
    "    \"hello world\",\n",
    "    \"this is a test\",\n",
    "    \"how are you doing\",\n",
    "    \"hello again\"\n",
    "]\n",
    "\n",
    "# Tokenize the sentences\n",
    "tokenized_sentences = [tokenizer(sentence) for sentence in sentences]\n",
    "print(tokenized_sentences)\n",
    "\n",
    "#Build the vocabulary\n",
    "## build_vocab_from_iterator is from torchtext\n",
    "vocab = build_vocab_from_iterator(tokenized_sentences, specials=[\"<unk>\"])\n",
    "\n",
    "vocab.set_default_index(vocab[\"<unk>\"]) # Handle unknown"
   ]
  },
  {
   "cell_type": "code",
   "execution_count": 45,
   "metadata": {},
   "outputs": [
    {
     "data": {
      "text/plain": [
       "{'<unk>': 0,\n",
       " 'hello': 1,\n",
       " 'doing': 5,\n",
       " 'a': 2,\n",
       " 'again': 3,\n",
       " 'is': 7,\n",
       " 'how': 6,\n",
       " 'are': 4,\n",
       " 'test': 8,\n",
       " 'this': 9,\n",
       " 'world': 10,\n",
       " 'you': 11}"
      ]
     },
     "execution_count": 45,
     "metadata": {},
     "output_type": "execute_result"
    }
   ],
   "source": [
    "# for x in enumerate(vocab):\n",
    "#     print(x)\n",
    "\n",
    "# vocab.get_itos()\n",
    "vocab.get_stoi()"
   ]
  },
  {
   "cell_type": "code",
   "execution_count": 46,
   "metadata": {},
   "outputs": [],
   "source": [
    "## tokenization\n",
    "## word to index "
   ]
  },
  {
   "cell_type": "code",
   "execution_count": 47,
   "metadata": {},
   "outputs": [],
   "source": [
    "## converting tokens to indices\n",
    "# new sentence to convert\n",
    "\n",
    "new_sentence = \"hello world this is unknown\"\n",
    "\n",
    "tokens = tokenizer(new_sentence)\n"
   ]
  },
  {
   "cell_type": "code",
   "execution_count": 48,
   "metadata": {},
   "outputs": [
    {
     "data": {
      "text/plain": [
       "['hello', 'world', 'this', 'is', 'unknown']"
      ]
     },
     "execution_count": 48,
     "metadata": {},
     "output_type": "execute_result"
    }
   ],
   "source": [
    "tokens"
   ]
  },
  {
   "cell_type": "code",
   "execution_count": 49,
   "metadata": {},
   "outputs": [],
   "source": [
    "token_ind = [{x : vocab[x]} for x in tokens]"
   ]
  },
  {
   "cell_type": "code",
   "execution_count": 53,
   "metadata": {},
   "outputs": [
    {
     "name": "stdout",
     "output_type": "stream",
     "text": [
      "{'<unk>': 0, 'hello': 1, 'doing': 5, 'a': 2, 'again': 3, 'is': 7, 'how': 6, 'are': 4, 'test': 8, 'this': 9, 'world': 10, 'you': 11}\n"
     ]
    }
   ],
   "source": [
    "token_ind\n",
    "print(vocab.get_stoi())"
   ]
  },
  {
   "cell_type": "code",
   "execution_count": null,
   "metadata": {},
   "outputs": [],
   "source": []
  }
 ],
 "metadata": {
  "kernelspec": {
   "display_name": "Python 3",
   "language": "python",
   "name": "python3"
  },
  "language_info": {
   "codemirror_mode": {
    "name": "ipython",
    "version": 3
   },
   "file_extension": ".py",
   "mimetype": "text/x-python",
   "name": "python",
   "nbconvert_exporter": "python",
   "pygments_lexer": "ipython3",
   "version": "3.12.2"
  }
 },
 "nbformat": 4,
 "nbformat_minor": 2
}
