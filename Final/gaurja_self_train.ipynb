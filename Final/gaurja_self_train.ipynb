{
 "cells": [
  {
   "cell_type": "code",
   "execution_count": 2,
   "metadata": {},
   "outputs": [],
   "source": [
    "import torch\n",
    "import torch.nn as nn\n",
    "\n",
    "# pip install datasets\n",
    "from datasets import load_dataset\n",
    "from tokenizers import Tokenizer # pip install tokenizers\n",
    "from tokenizers.models import WordLevel\n",
    "from tokenizers.trainers import WordLevelTrainer\n",
    "from tokenizers.pre_tokenizers import Whitespace"
   ]
  },
  {
   "cell_type": "markdown",
   "metadata": {},
   "source": [
    "# What is ... ?\n",
    "- torch.nn\n",
    "- datasets huggingface lib\n",
    "- dataset.load_dataset()\n",
    "- tokenizers huggingface lib\n",
    "- tokenizers.models.WordLevel\n",
    "- tokenizers.trainers.WorldLevelTrainer\n",
    "- tokenizers.pre_tokenizers.Whitespace"
   ]
  },
  {
   "cell_type": "markdown",
   "metadata": {},
   "source": [
    "# Deep Dive Tokenizers\n",
    "Many types of Tokenizers available\n",
    "=> BPE (Byte Pair Encoding)"
   ]
  },
  {
   "cell_type": "markdown",
   "metadata": {},
   "source": [
    "# Instantiating a Tokenizer"
   ]
  },
  {
   "cell_type": "code",
   "execution_count": 3,
   "metadata": {},
   "outputs": [],
   "source": [
    "# Instantiate Tokenizer with BPE Model\n",
    "from tokenizers import Tokenizer\n",
    "from tokenizers.models import WordLevel \n",
    "tokenizer = Tokenizer(WordLevel(unk_token=\"[UNK]\")) # Map unknowns to [UNK]"
   ]
  },
  {
   "cell_type": "markdown",
   "metadata": {},
   "source": [
    "# Trainer"
   ]
  },
  {
   "cell_type": "code",
   "execution_count": 4,
   "metadata": {},
   "outputs": [],
   "source": [
    "# to train our tokenizer on data, we need to \n",
    "from tokenizers.trainers import WordLevelTrainer\n",
    "\n",
    "# min_Frequency == a word must appear atleast two times for the trainer to train on it\n",
    "trainer =  WordLevelTrainer(special_tokens = [\"[UNK]\",\"[PAD]\",\"[SOS]\", \"[EOS]\"], min_frequency = 2)"
   ]
  },
  {
   "cell_type": "markdown",
   "metadata": {},
   "source": [
    "# Pre Tokenizer - Whitespace"
   ]
  },
  {
   "cell_type": "code",
   "execution_count": 5,
   "metadata": {},
   "outputs": [],
   "source": [
    "# pre_tokenizer\n",
    "# We have built a trainer, which has to be trained on words\n",
    "# Splitting data into words\n",
    "\n",
    "from tokenizers.pre_tokenizers import Whitespace\n",
    "tokenizer.pre_tokenizer = Whitespace()\n",
    "\n"
   ]
  },
  {
   "cell_type": "code",
   "execution_count": 25,
   "metadata": {},
   "outputs": [
    {
     "ename": "TypeError",
     "evalue": "Sequence.count() missing 1 required positional argument: 'value'",
     "output_type": "error",
     "traceback": [
      "\u001b[1;31m---------------------------------------------------------------------------\u001b[0m",
      "\u001b[1;31mTypeError\u001b[0m                                 Traceback (most recent call last)",
      "Cell \u001b[1;32mIn[25], line 4\u001b[0m\n\u001b[0;32m      1\u001b[0m \u001b[38;5;28;01mfrom\u001b[39;00m \u001b[38;5;21;01mpathlib\u001b[39;00m \u001b[38;5;28;01mimport\u001b[39;00m Path\n\u001b[0;32m      3\u001b[0m a \u001b[38;5;241m=\u001b[39m Path()\n\u001b[1;32m----> 4\u001b[0m \u001b[38;5;28mprint\u001b[39m(\u001b[43ma\u001b[49m\u001b[38;5;241;43m.\u001b[39;49m\u001b[43mcwd\u001b[49m\u001b[43m(\u001b[49m\u001b[43m)\u001b[49m\u001b[38;5;241;43m.\u001b[39;49m\u001b[43mparents\u001b[49m\u001b[38;5;241;43m.\u001b[39;49m\u001b[43mcount\u001b[49m\u001b[43m(\u001b[49m\u001b[43m)\u001b[49m) \u001b[38;5;66;03m# gives the entire path in the system\u001b[39;00m\n",
      "\u001b[1;31mTypeError\u001b[0m: Sequence.count() missing 1 required positional argument: 'value'"
     ]
    }
   ],
   "source": [
    "from pathlib import Path\n",
    "\n",
    "a = Path() # gives the entire path in the system\n"
   ]
  }
 ],
 "metadata": {
  "kernelspec": {
   "display_name": "Python 3",
   "language": "python",
   "name": "python3"
  },
  "language_info": {
   "codemirror_mode": {
    "name": "ipython",
    "version": 3
   },
   "file_extension": ".py",
   "mimetype": "text/x-python",
   "name": "python",
   "nbconvert_exporter": "python",
   "pygments_lexer": "ipython3",
   "version": "3.12.2"
  }
 },
 "nbformat": 4,
 "nbformat_minor": 2
}
