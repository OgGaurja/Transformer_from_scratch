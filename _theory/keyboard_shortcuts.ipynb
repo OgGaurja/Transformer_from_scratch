{
 "cells": [
  {
   "cell_type": "markdown",
   "metadata": {},
   "source": [
    "# KeyBoard Shortcuts"
   ]
  },
  {
   "cell_type": "markdown",
   "metadata": {},
   "source": [
    "1) Delete a cell => ctrl + caps + ctrl + caps\n",
    "2) Add a Code cell below => alt + enter\n",
    "3) toggle terminal => ctrl + j\n",
    "4) change markdown to code cell => y\n",
    "5) go to past code/future code => alt + arrow left/right\n",
    "6) run all => ctrl + alt + f2"
   ]
  },
  {
   "cell_type": "markdown",
   "metadata": {},
   "source": []
  }
 ],
 "metadata": {
  "language_info": {
   "name": "python"
  }
 },
 "nbformat": 4,
 "nbformat_minor": 2
}
