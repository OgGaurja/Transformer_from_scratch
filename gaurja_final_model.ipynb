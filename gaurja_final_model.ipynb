{
 "cells": [
  {
   "cell_type": "code",
   "execution_count": 2,
   "metadata": {},
   "outputs": [],
   "source": [
    "import torch\n",
    "import torch.nn as nn\n",
    "import math"
   ]
  },
  {
   "cell_type": "code",
   "execution_count": 3,
   "metadata": {},
   "outputs": [],
   "source": [
    "class InputEmbeddings(nn.Module):\n",
    "    def __init__(self, d_model:int, vocab_size: int ):\n",
    "        super().__init__()\n",
    "        self.d_model = d_model\n",
    "        self.vocab_size = vocab_size\n",
    "        self.embedding = nn.Embedding(num_embeddings=vocab_size, embedding_dim=d_model)\n",
    "\n",
    "    def forward(self,x):\n",
    "        return self.embedding * math.sqrt(self.d_model)     "
   ]
  },
  {
   "cell_type": "code",
   "execution_count": 4,
   "metadata": {},
   "outputs": [],
   "source": [
    "class PositionalEncoding(nn.Module):\n",
    "\n",
    "    def __init__(self, d_model: int, seq_len: int, dropout: float) -> None:\n",
    "        super().__init__()\n",
    "        self.d_model = d_model\n",
    "        self.seq_len = seq_len\n",
    "        self.dropout = nn.Dropout(dropout)\n",
    "\n",
    "        #Create a matrix of shape(seq_len, d_model)\n",
    "        pe = torch.zeros(seq_len, d_model)\n",
    "\n",
    "        #Create a vector of shape (seq_len, 1)\n",
    "        position = torch.arange(0, seq_len, dtype=torch.float).unsqueeze(1)\n",
    "\n",
    "        div_term = torch.exp(torch.arange(0,d_model,2).float() * (-math.log(10000.0)/d_model))\n",
    "\n",
    "        #Apply the sine to even postions\n",
    "        pe[: , 0::2] = torch.sin(position * div_term)\n",
    "        pe[: , 1::2] = torch.cos(position * div_term)\n",
    "\n",
    "        pe = pe.unsqueeze(0) # (1,Seq_len, d_model)\n",
    "        self.register_buffer('pe',pe)\n",
    "\n",
    "    \n",
    "    \n",
    "    def forward(self, x):\n",
    "        x = x+ (self.pe[:, :x.shape[1], :]).requires_grad(False)\n",
    "        return self.dropout(x)"
   ]
  },
  {
   "cell_type": "markdown",
   "metadata": {},
   "source": [
    "### Building Add and Norm Layer"
   ]
  },
  {
   "cell_type": "markdown",
   "metadata": {},
   "source": [
    "__dfdfdfd__\n",
    "\n",
    "_dfdf_ \n",
    "**dfdf** "
   ]
  },
  {
   "cell_type": "code",
   "execution_count": 5,
   "metadata": {},
   "outputs": [
    {
     "name": "stdout",
     "output_type": "stream",
     "text": [
      "0.001\n"
     ]
    }
   ],
   "source": [
    "print(10**-3)"
   ]
  },
  {
   "cell_type": "code",
   "execution_count": 6,
   "metadata": {},
   "outputs": [],
   "source": [
    "class LayerNormalization(nn.Module):\n",
    "\n",
    "    # constructor\n",
    "    def __init__(self, eps: float = 10**-6) -> None:\n",
    "        super.__init__()\n",
    "        self.eps = eps\n",
    "\n",
    "        # Trainable parameters of neural net\n",
    "        self.alpha = nn.Parameter(data= torch.ones(1)) #alpha = multiplicative\n",
    "        self.bias = nn.Parameter(data= torch.ones(1)) # bias = additive\n",
    "\n",
    "    def forward(self, x):\n",
    "        mean = x.mean(dim = -1, keepdim = True)\n",
    "        std = x.std(dim = -1, keepdim = True)\n",
    "        return self.alpha * (x - mean)/(std + self.eps) + self.bias"
   ]
  },
  {
   "cell_type": "code",
   "execution_count": 7,
   "metadata": {},
   "outputs": [],
   "source": [
    "a = torch.tensor([1,12])\n",
    "b = a.mean(dtype=float, dim=0)"
   ]
  },
  {
   "cell_type": "code",
   "execution_count": 8,
   "metadata": {},
   "outputs": [
    {
     "data": {
      "text/plain": [
       "tensor(6.5000, dtype=torch.float64)"
      ]
     },
     "execution_count": 8,
     "metadata": {},
     "output_type": "execute_result"
    }
   ],
   "source": [
    "b"
   ]
  },
  {
   "cell_type": "markdown",
   "metadata": {},
   "source": [
    "# 4.) Feed Forward Block\n",
    "### Contains two Linear transformations and a ReLU in between"
   ]
  },
  {
   "cell_type": "code",
   "execution_count": 9,
   "metadata": {},
   "outputs": [],
   "source": [
    "class FeedForwardBlock(nn.Module):\n",
    "    def __init__(self, d_model: int, d_ff: int, dropout: int) -> None:\n",
    "        super().__init__()\n",
    "        self.linear_1 = nn.Linear(d_model, d_ff) # W1 and B1\n",
    "        self.dropout = nn.Dropout(dropout)\n",
    "        self.linear_2 = nn.Linear(d_ff, d_model) # W2 and B2\n",
    "\n",
    "    def forward(self, x):\n",
    "        # (Batch, Seq_len, d_model) ---> (Batch, seq_len, d_ff) ---> (Batch, seq_len, d_model)\n",
    "        return self.linear_2(self.dropout(torch.relu(self.linear_1(x))))"
   ]
  },
  {
   "cell_type": "markdown",
   "metadata": {},
   "source": [
    "# 5) Multihead Attention"
   ]
  },
  {
   "cell_type": "code",
   "execution_count": 45,
   "metadata": {},
   "outputs": [],
   "source": [
    "# Linear Transformation \n",
    "w_q = nn.Linear(3,4)"
   ]
  },
  {
   "cell_type": "code",
   "execution_count": 52,
   "metadata": {},
   "outputs": [
    {
     "name": "stdout",
     "output_type": "stream",
     "text": [
      "Parameter containing:\n",
      "tensor([[ 0.3512, -0.4764,  0.4040],\n",
      "        [-0.4498,  0.2830,  0.0951],\n",
      "        [ 0.3542, -0.2401,  0.2020],\n",
      "        [ 0.0870,  0.4940, -0.0263]], requires_grad=True)\n",
      "Parameter containing:\n",
      "tensor([ 0.5289, -0.2276, -0.2474,  0.1907], requires_grad=True)\n"
     ]
    }
   ],
   "source": [
    "print(w_q.weight)\n",
    "print(w_q.bias)"
   ]
  },
  {
   "cell_type": "code",
   "execution_count": 70,
   "metadata": {},
   "outputs": [
    {
     "name": "stdout",
     "output_type": "stream",
     "text": [
      "tensor([[-0.1528, -1.8556,  1.8692],\n",
      "        [-0.6580, -0.7270,  2.6306],\n",
      "        [-0.0721, -1.3781, -0.7330],\n",
      "        [-1.9977,  1.8410,  2.0114]])\n"
     ]
    }
   ],
   "source": [
    "input = torch.randn(4,3)\n",
    "print(input)"
   ]
  },
  {
   "cell_type": "code",
   "execution_count": 71,
   "metadata": {},
   "outputs": [],
   "source": [
    "# print(input)"
   ]
  },
  {
   "cell_type": "code",
   "execution_count": 72,
   "metadata": {},
   "outputs": [
    {
     "name": "stdout",
     "output_type": "stream",
     "text": [
      "tensor([[-0.3057, -0.0000,  0.0000],\n",
      "        [-1.3159, -0.0000,  0.0000],\n",
      "        [-0.0000, -2.7561, -1.4659],\n",
      "        [-3.9955,  3.6821,  4.0228]])\n"
     ]
    }
   ],
   "source": [
    "# w_q(input)\n",
    "dropout = nn.Dropout()\n",
    "print(dropout(input))"
   ]
  },
  {
   "cell_type": "code",
   "execution_count": 65,
   "metadata": {},
   "outputs": [
    {
     "name": "stdout",
     "output_type": "stream",
     "text": [
      "Dropout(p=0.5, inplace=False)\n"
     ]
    }
   ],
   "source": [
    "print(dropout)"
   ]
  },
  {
   "cell_type": "code",
   "execution_count": 76,
   "metadata": {},
   "outputs": [],
   "source": [
    "## Fair\n",
    "\n",
    "class MultiHeadAttentionBlock(nn.Module):\n",
    "\n",
    "    def __init__(self, d_model: int, h: int, dropout: float ) -> None:\n",
    "        super().__init__()\n",
    "        self.d_model = d_model\n",
    "        self.h = h\n",
    "        \n",
    "        assert d_model % h == 0, \"d_model is not divisible by 4\"\n",
    "        \n",
    "        ## Integer division //\n",
    "        ## d_k = dimension of each head\n",
    "        self.d_k = d_model // h\n",
    "\n",
    "        self.w_q = nn.Linear(d_model, d_model)\n",
    "        self.w_k = nn.Linear(d_model, d_model)\n",
    "        self.w_v = nn.Linear(d_model, d_model)\n",
    "\n",
    "        self.w_o = nn.Linear(d_model, d_model)\n",
    "        self.dropout = nn.Dropout(dropout)\n",
    "\n",
    "    # A static method can be called without an instance\n",
    "    @staticmethod\n",
    "    def attention(query, key, value,  mask, dropout: nn.Dropout):\n",
    "        d_k = query.shape[-1]\n",
    "\n",
    "        # (Batch,h, Seq_len, d_k) x (Batch,h, d_k, Seq_len) = (Batch, h, Seq_len, Seq_len)\n",
    "        attention_scores = (query @ key.transpose(-2,-1))/ math.sqrt(d_k)\n",
    "\n",
    "        ## before applying softmax, mask the values\n",
    "        if mask is not None:\n",
    "            attention_scores.masked_fill(mask == 0, -1e9)\n",
    "\n",
    "        # Now apply softmax\n",
    "        attention_scores =  attention_scores.softmax(dim = -1)  #(Batch, h, seq_len,seq_len)\n",
    "\n",
    "        if dropout is not None:\n",
    "            attention_scores = dropout(attention_scores)\n",
    "\n",
    "        #(Batch, h, seq_len,seq_len) x (Batch,h, Seq_len, d_k) = (Batch, h, seq_len, d_k)\n",
    "        return (attention_scores @ value), attention_scores    \n",
    "    \n",
    "        \n",
    "\n",
    "\n",
    "\n",
    "    def forward(self, q,k,v, mask):\n",
    "\n",
    "        ## final arrays for Multihead\n",
    "        ## dimension of q = seq x d_model\n",
    "        # w_q == > [d_mode, d_moel]\n",
    "        # seq x d_model (MatMUl) ==>>  \n",
    "        query  = self.w_q(q)   ## dimensions [seq x d_model]\n",
    "        key  = self.w_k(k)   \n",
    "        value  = self.w_v(v)\n",
    "\n",
    "        ## dividing each matrix into number of heads\n",
    "\n",
    "        #(Batch, Seq_len, d_model) --> (Batch, Seq_len, h, d_k) --> (Batch,h, Seq_len, d_k)\n",
    "        query =  query.view(query.shape[0],query.shape[1], self.h, self.d_k).transpose(1,2)\n",
    "        key =  key.view(key.shape[0],key.shape[1], self.h, self.d_k).transpose(1,2)\n",
    "        value =  value.view(value.shape[0],value.shape[1], self.h, self.d_k).transpose(1,2)\n",
    "\n",
    "        ## Applying attention on each head matrix\n",
    "        # (Batch, h, seq_len, d_k)\n",
    "        x, self.attention_scores = MultiHeadAttentionBlock.attention(query,key, value,mask,dropout= self.dropout)\n",
    "\n",
    "        #(Batch, h, seq_len, d_k) --> (Batch,  seq_len, h ,d_k) using transpose --> (Batch, seq_len, h*d_k = d_model)\n",
    "\n",
    "        \n",
    "        \n",
    "    "
   ]
  },
  {
   "cell_type": "code",
   "execution_count": 102,
   "metadata": {},
   "outputs": [
    {
     "name": "stdout",
     "output_type": "stream",
     "text": [
      "512\n"
     ]
    }
   ],
   "source": [
    "a = torch.randn(3,512)\n",
    "print(a.shape[1])\n",
    "a = a.view()"
   ]
  },
  {
   "cell_type": "code",
   "execution_count": 104,
   "metadata": {},
   "outputs": [
    {
     "data": {
      "text/plain": [
       "torch.Size([8, 128])"
      ]
     },
     "execution_count": 104,
     "metadata": {},
     "output_type": "execute_result"
    }
   ],
   "source": [
    "a.size()"
   ]
  },
  {
   "cell_type": "code",
   "execution_count": 217,
   "metadata": {},
   "outputs": [],
   "source": [
    "query = torch.randn(1,2,1,2)\n",
    "# (Batch, h, Seq_len, d_k)\n",
    "h = query.shape[1]\n",
    "d_k = query.shape[-1]\n",
    "seq_len = query.shape[2]\n",
    "## what I want -- (1, seq_len, d_model)"
   ]
  },
  {
   "cell_type": "code",
   "execution_count": 219,
   "metadata": {},
   "outputs": [
    {
     "name": "stdout",
     "output_type": "stream",
     "text": [
      "tensor([[[[ 1.6096,  0.1722]],\n",
      "\n",
      "         [[-0.3086, -1.3135]]]])\n"
     ]
    }
   ],
   "source": [
    "print(query)"
   ]
  },
  {
   "cell_type": "code",
   "execution_count": 220,
   "metadata": {},
   "outputs": [],
   "source": [
    "query=query.transpose(1,2)"
   ]
  },
  {
   "cell_type": "code",
   "execution_count": 226,
   "metadata": {},
   "outputs": [
    {
     "data": {
      "text/plain": [
       "torch.Size([1, 1, 2, 2])"
      ]
     },
     "execution_count": 226,
     "metadata": {},
     "output_type": "execute_result"
    }
   ],
   "source": [
    "query.shape"
   ]
  },
  {
   "cell_type": "code",
   "execution_count": 61,
   "metadata": {},
   "outputs": [
    {
     "name": "stdout",
     "output_type": "stream",
     "text": [
      "512\n"
     ]
    }
   ],
   "source": [
    "a = MultiHeadAttentionBlock(d_model=512)\n",
    "a.forward()"
   ]
  },
  {
   "cell_type": "markdown",
   "metadata": {},
   "source": [
    "### Self in Python\n",
    "- represent instance of class\n",
    "- \n"
   ]
  },
  {
   "cell_type": "markdown",
   "metadata": {},
   "source": [
    "## nn.Dropout ?\n"
   ]
  },
  {
   "cell_type": "markdown",
   "metadata": {},
   "source": [
    "## Assert Keyword Python\n",
    "### I can customize the assertion error"
   ]
  },
  {
   "cell_type": "code",
   "execution_count": 75,
   "metadata": {},
   "outputs": [],
   "source": [
    "x  = 90\n",
    "\n",
    "assert x == 90, \"Not equal\""
   ]
  },
  {
   "cell_type": "markdown",
   "metadata": {},
   "source": [
    "### query.view()\n",
    "### to change the dimension of array"
   ]
  },
  {
   "cell_type": "code",
   "execution_count": 121,
   "metadata": {},
   "outputs": [],
   "source": [
    "query = torch.randn(3,2)\n",
    "query = query.view(size= [1,6])\n"
   ]
  },
  {
   "cell_type": "code",
   "execution_count": 122,
   "metadata": {},
   "outputs": [
    {
     "name": "stdout",
     "output_type": "stream",
     "text": [
      "tensor([[-0.5354, -0.1534,  0.3063,  2.7817,  0.4930,  1.7247]])\n"
     ]
    }
   ],
   "source": [
    "print( query)"
   ]
  },
  {
   "cell_type": "code",
   "execution_count": 145,
   "metadata": {},
   "outputs": [],
   "source": [
    "query = query.transpose(1,0)\n"
   ]
  },
  {
   "cell_type": "code",
   "execution_count": 146,
   "metadata": {},
   "outputs": [
    {
     "name": "stdout",
     "output_type": "stream",
     "text": [
      "tensor([[-0.5354],\n",
      "        [-0.1534],\n",
      "        [ 0.3063],\n",
      "        [ 2.7817],\n",
      "        [ 0.4930],\n",
      "        [ 1.7247]])\n"
     ]
    }
   ],
   "source": [
    "print(query)"
   ]
  },
  {
   "cell_type": "code",
   "execution_count": 152,
   "metadata": {},
   "outputs": [
    {
     "data": {
      "text/plain": [
       "6"
      ]
     },
     "execution_count": 152,
     "metadata": {},
     "output_type": "execute_result"
    }
   ],
   "source": [
    "query.shape[-2]"
   ]
  },
  {
   "cell_type": "markdown",
   "metadata": {},
   "source": [
    "### Matrix Multiplication using @"
   ]
  },
  {
   "cell_type": "code",
   "execution_count": 154,
   "metadata": {},
   "outputs": [],
   "source": [
    "a = torch.tensor([1,2,3])\n",
    "b = torch.tensor([3,4,5])\n",
    "b = b.view(3,1) "
   ]
  },
  {
   "cell_type": "code",
   "execution_count": 175,
   "metadata": {},
   "outputs": [
    {
     "name": "stdout",
     "output_type": "stream",
     "text": [
      "512\n"
     ]
    }
   ],
   "source": [
    "query = torch.randn(1,3,512)\n",
    "print(query.shape[2])\n",
    "query.view(query.shape[0], query.shape[1], )"
   ]
  },
  {
   "cell_type": "code",
   "execution_count": 172,
   "metadata": {},
   "outputs": [
    {
     "data": {
      "text/plain": [
       "tensor([[[[ 0.8631,  0.7630, -1.6483,  0.3889,  1.3791,  0.4691, -0.3281,\n",
       "            0.0448, -0.0949, -0.9514],\n",
       "          [-0.6676,  1.7781, -0.6553,  0.9162, -0.0135,  1.1914,  1.7496,\n",
       "           -0.7324, -0.8473, -0.8272]],\n",
       "\n",
       "         [[-1.8201, -0.6571,  0.7106,  0.4080,  0.2826, -1.1668,  1.1877,\n",
       "           -0.4599, -1.3485,  0.0875],\n",
       "          [ 0.4184, -0.3341, -0.6875, -1.3446, -0.4840,  1.4499,  0.4163,\n",
       "            0.1590, -0.1998,  0.3030]]]])"
      ]
     },
     "execution_count": 172,
     "metadata": {},
     "output_type": "execute_result"
    }
   ],
   "source": [
    "query.view()"
   ]
  },
  {
   "cell_type": "markdown",
   "metadata": {},
   "source": [
    "## dim  = -1 ??"
   ]
  },
  {
   "cell_type": "code",
   "execution_count": 199,
   "metadata": {},
   "outputs": [
    {
     "name": "stdout",
     "output_type": "stream",
     "text": [
      "4\n"
     ]
    }
   ],
   "source": [
    "a = torch.tensor([[1,2,3,4],[5,6,7,8]])\n",
    "a = a.float()\n",
    "print(a.shape[-1])\n",
    "# print(a.softmax(dim = -1))\n",
    "# help(softmax)"
   ]
  },
  {
   "cell_type": "markdown",
   "metadata": {},
   "source": [
    "## Softmax Function Pytorch ??\n"
   ]
  },
  {
   "cell_type": "markdown",
   "metadata": {},
   "source": [
    "## torch.Tensor.Contiguous ??"
   ]
  },
  {
   "cell_type": "markdown",
   "metadata": {},
   "source": []
  }
 ],
 "metadata": {
  "kernelspec": {
   "display_name": "testenv",
   "language": "python",
   "name": "testenv"
  },
  "language_info": {
   "codemirror_mode": {
    "name": "ipython",
    "version": 3
   },
   "file_extension": ".py",
   "mimetype": "text/x-python",
   "name": "python",
   "nbconvert_exporter": "python",
   "pygments_lexer": "ipython3",
   "version": "3.9.15"
  }
 },
 "nbformat": 4,
 "nbformat_minor": 2
}
