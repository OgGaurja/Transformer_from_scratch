{
 "cells": [
  {
   "cell_type": "markdown",
   "metadata": {},
   "source": [
    "Input Embeddings\n",
    "\n",
    "Positional Encoding\n",
    "\n",
    "Encoder- \n",
    "- Multihead Attention \n",
    "- Two Add and Norm layers\n",
    "- Two residual Connections\n",
    "- One Feed forward network"
   ]
  },
  {
   "cell_type": "markdown",
   "metadata": {},
   "source": []
  }
 ],
 "metadata": {
  "language_info": {
   "name": "python"
  }
 },
 "nbformat": 4,
 "nbformat_minor": 2
}
