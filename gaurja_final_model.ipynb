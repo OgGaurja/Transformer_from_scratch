{
 "cells": [
  {
   "cell_type": "code",
   "execution_count": 3,
   "metadata": {},
   "outputs": [
    {
     "name": "stdout",
     "output_type": "stream",
     "text": [
      "Intel MKL WARNING: Support of Intel(R) Streaming SIMD Extensions 4.2 (Intel(R) SSE4.2) enabled only processors has been deprecated. Intel oneAPI Math Kernel Library 2025.0 will require Intel(R) Advanced Vector Extensions (Intel(R) AVX) instructions.\n",
      "Intel MKL WARNING: Support of Intel(R) Streaming SIMD Extensions 4.2 (Intel(R) SSE4.2) enabled only processors has been deprecated. Intel oneAPI Math Kernel Library 2025.0 will require Intel(R) Advanced Vector Extensions (Intel(R) AVX) instructions.\n"
     ]
    }
   ],
   "source": [
    "import torch\n",
    "import torch.nn as nn\n",
    "import math\n",
    "\n",
    "# Using kernel : testenv (office)"
   ]
  },
  {
   "cell_type": "code",
   "execution_count": 4,
   "metadata": {},
   "outputs": [],
   "source": [
    "class InputEmbeddings(nn.Module):\n",
    "    def __init__(self, d_model:int, vocab_size: int ):\n",
    "        super().__init__()\n",
    "        self.d_model = d_model\n",
    "        self.vocab_size = vocab_size\n",
    "        self.embedding = nn.Embedding(num_embeddings=vocab_size, embedding_dim=d_model)\n",
    "\n",
    "    def forward(self,x):\n",
    "        return self.embedding * math.sqrt(self.d_model)     "
   ]
  },
  {
   "cell_type": "code",
   "execution_count": 5,
   "metadata": {},
   "outputs": [],
   "source": [
    "class PositionalEncoding(nn.Module):\n",
    "\n",
    "    def __init__(self, d_model: int, seq_len: int, dropout: float) -> None:\n",
    "        super().__init__()\n",
    "        self.d_model = d_model\n",
    "        self.seq_len = seq_len\n",
    "        self.dropout = nn.Dropout(dropout)\n",
    "\n",
    "        #Create a matrix of shape(seq_len, d_model)\n",
    "        pe = torch.zeros(seq_len, d_model)\n",
    "\n",
    "        #Create a vector of shape (seq_len, 1)\n",
    "        position = torch.arange(0, seq_len, dtype=torch.float).unsqueeze(1)\n",
    "\n",
    "        div_term = torch.exp(torch.arange(0,d_model,2).float() * (-math.log(10000.0)/d_model))\n",
    "\n",
    "        #Apply the sine to even postions\n",
    "        pe[: , 0::2] = torch.sin(position * div_term)\n",
    "        pe[: , 1::2] = torch.cos(position * div_term)\n",
    "\n",
    "        pe = pe.unsqueeze(0) # (1,Seq_len, d_model)\n",
    "        self.register_buffer('pe',pe)\n",
    "\n",
    "    \n",
    "    \n",
    "    def forward(self, x):\n",
    "        x = x+ (self.pe[:, :x.shape[1], :]).requires_grad(False)\n",
    "        return self.dropout(x)"
   ]
  },
  {
   "cell_type": "markdown",
   "metadata": {},
   "source": [
    "### Building Add and Norm Layer"
   ]
  },
  {
   "cell_type": "markdown",
   "metadata": {},
   "source": [
    "__dfdfdfd__\n",
    "\n",
    "_dfdf_ \n",
    "**dfdf** "
   ]
  },
  {
   "cell_type": "code",
   "execution_count": 6,
   "metadata": {},
   "outputs": [
    {
     "name": "stdout",
     "output_type": "stream",
     "text": [
      "0.001\n"
     ]
    }
   ],
   "source": [
    "print(10**-3)"
   ]
  },
  {
   "cell_type": "code",
   "execution_count": 7,
   "metadata": {},
   "outputs": [],
   "source": [
    "class LayerNormalization(nn.Module):\n",
    "\n",
    "    # constructor\n",
    "    def __init__(self, eps: float = 10**-6) -> None:\n",
    "        super.__init__()\n",
    "        self.eps = eps\n",
    "\n",
    "        # Trainable parameters of neural net\n",
    "        self.alpha = nn.Parameter(data= torch.ones(1)) #alpha = multiplicative\n",
    "        self.bias = nn.Parameter(data= torch.ones(1)) # bias = additive\n",
    "\n",
    "    def forward(self, x):\n",
    "        mean = x.mean(dim = -1, keepdim = True)\n",
    "        std = x.std(dim = -1, keepdim = True)\n",
    "        return self.alpha * (x - mean)/(std + self.eps) + self.bias"
   ]
  },
  {
   "cell_type": "code",
   "execution_count": 8,
   "metadata": {},
   "outputs": [],
   "source": [
    "a = torch.tensor([1,12])\n",
    "b = a.mean(dtype=float, dim=0)"
   ]
  },
  {
   "cell_type": "code",
   "execution_count": 9,
   "metadata": {},
   "outputs": [
    {
     "data": {
      "text/plain": [
       "tensor(6.5000, dtype=torch.float64)"
      ]
     },
     "execution_count": 9,
     "metadata": {},
     "output_type": "execute_result"
    }
   ],
   "source": [
    "b"
   ]
  },
  {
   "cell_type": "markdown",
   "metadata": {},
   "source": [
    "# 4.) Feed Forward Block\n",
    "### Contains two Linear transformations and a ReLU in between"
   ]
  },
  {
   "cell_type": "code",
   "execution_count": 10,
   "metadata": {},
   "outputs": [],
   "source": [
    "class FeedForwardBlock(nn.Module):\n",
    "    def __init__(self, d_model: int, d_ff: int, dropout: int) -> None:\n",
    "        super().__init__()\n",
    "        self.linear_1 = nn.Linear(d_model, d_ff) # W1 and B1\n",
    "        self.dropout = nn.Dropout(dropout)\n",
    "        self.linear_2 = nn.Linear(d_ff, d_model) # W2 and B2\n",
    "\n",
    "    def forward(self, x):\n",
    "        # (Batch, Seq_len, d_model) ---> (Batch, seq_len, d_ff) ---> (Batch, seq_len, d_model)\n",
    "        return self.linear_2(self.dropout(torch.relu(self.linear_1(x))))"
   ]
  },
  {
   "cell_type": "markdown",
   "metadata": {},
   "source": [
    "# 5) Multihead Attention"
   ]
  },
  {
   "cell_type": "code",
   "execution_count": 11,
   "metadata": {},
   "outputs": [],
   "source": [
    "# Linear Transformation \n",
    "w_q = nn.Linear(3,4)"
   ]
  },
  {
   "cell_type": "code",
   "execution_count": 12,
   "metadata": {},
   "outputs": [
    {
     "name": "stdout",
     "output_type": "stream",
     "text": [
      "Parameter containing:\n",
      "tensor([[-0.5440, -0.5345,  0.5400],\n",
      "        [-0.5013,  0.0595,  0.3118],\n",
      "        [ 0.1393,  0.3877, -0.0468],\n",
      "        [ 0.5532, -0.4944,  0.1819]], requires_grad=True)\n",
      "Parameter containing:\n",
      "tensor([-0.1159,  0.0061, -0.3233,  0.4707], requires_grad=True)\n"
     ]
    }
   ],
   "source": [
    "print(w_q.weight)\n",
    "print(w_q.bias)"
   ]
  },
  {
   "cell_type": "code",
   "execution_count": 13,
   "metadata": {},
   "outputs": [
    {
     "name": "stdout",
     "output_type": "stream",
     "text": [
      "tensor([[-1.0129, -0.3421,  2.0021],\n",
      "        [ 0.9800, -0.7892,  0.9688],\n",
      "        [ 1.5839,  0.5169,  0.1802],\n",
      "        [-0.3647,  0.1959, -0.0209]])\n"
     ]
    }
   ],
   "source": [
    "input = torch.randn(4,3)\n",
    "print(input)"
   ]
  },
  {
   "cell_type": "code",
   "execution_count": 14,
   "metadata": {},
   "outputs": [],
   "source": [
    "# print(input)"
   ]
  },
  {
   "cell_type": "code",
   "execution_count": 15,
   "metadata": {},
   "outputs": [
    {
     "name": "stdout",
     "output_type": "stream",
     "text": [
      "tensor([[-2.0257, -0.6842,  4.0042],\n",
      "        [ 1.9599, -1.5784,  0.0000],\n",
      "        [ 3.1677,  0.0000,  0.0000],\n",
      "        [-0.7294,  0.0000, -0.0000]])\n"
     ]
    }
   ],
   "source": [
    "# w_q(input)\n",
    "dropout = nn.Dropout()\n",
    "print(dropout(input))"
   ]
  },
  {
   "cell_type": "code",
   "execution_count": 16,
   "metadata": {},
   "outputs": [
    {
     "name": "stdout",
     "output_type": "stream",
     "text": [
      "Dropout(p=0.5, inplace=False)\n"
     ]
    }
   ],
   "source": [
    "print(dropout)"
   ]
  },
  {
   "cell_type": "code",
   "execution_count": 143,
   "metadata": {},
   "outputs": [],
   "source": [
    "## Fair\n",
    "\n",
    "class MultiHeadAttentionBlock(nn.Module):\n",
    "\n",
    "    def __init__(self, d_model: int, h: int, dropout: float ) -> None:\n",
    "        super().__init__()\n",
    "        self.d_model = d_model\n",
    "        self.h = h\n",
    "        \n",
    "        assert d_model % h == 0, \"d_model is not divisible by 4\"\n",
    "        \n",
    "        ## Integer division //\n",
    "        ## d_k = dimension of each head\n",
    "        self.d_k = d_model // h\n",
    "\n",
    "        self.w_q = nn.Linear(d_model, d_model)\n",
    "        self.w_k = nn.Linear(d_model, d_model)\n",
    "        self.w_v = nn.Linear(d_model, d_model)\n",
    "\n",
    "        self.w_o = nn.Linear(d_model, d_model)\n",
    "        self.dropout = nn.Dropout(dropout)\n",
    "\n",
    "    # A static method can be called without an instance\n",
    "    @staticmethod\n",
    "    def attention(query, key, value,  mask, dropout: nn.Dropout):\n",
    "        d_k = query.shape[-1]\n",
    "\n",
    "        # (Batch,h, Seq_len, d_k) x (Batch,h, d_k, Seq_len) = (Batch, h, Seq_len, Seq_len)\n",
    "        attention_scores = (query @ key.transpose(-2,-1))/ math.sqrt(d_k)\n",
    "\n",
    "        ## before applying softmax, mask the values\n",
    "        if mask is not None:\n",
    "            attention_scores.masked_fill(mask == 0, -1e9)\n",
    "\n",
    "        # Now apply softmax\n",
    "        attention_scores =  attention_scores.softmax(dim = -1)  #(Batch, h, seq_len,seq_len)\n",
    "\n",
    "        if dropout is not None:\n",
    "            attention_scores = dropout(attention_scores)\n",
    "\n",
    "        #(Batch, h, seq_len,seq_len) x (Batch,h, Seq_len, d_k) = (Batch, h, seq_len, d_k)\n",
    "        return (attention_scores @ value), attention_scores    \n",
    "    \n",
    "        \n",
    "\n",
    "\n",
    "\n",
    "    def forward(self, q,k,v, mask):\n",
    "        print('When are you called ?')\n",
    "\n",
    "        ## final arrays for Multihead\n",
    "        ## dimension of q = seq x d_model\n",
    "        # w_q == > [d_mode, d_moel]\n",
    "        # seq x d_model (MatMUl) ==>>  \n",
    "        query  = self.w_q(q)   ## dimensions [seq x d_model]\n",
    "        key  = self.w_k(k)   \n",
    "        value  = self.w_v(v)\n",
    "\n",
    "        ## dividing each matrix into number of heads\n",
    "\n",
    "        #(Batch, Seq_len, d_model) --> (Batch, Seq_len, h, d_k) --> (Batch,h, Seq_len, d_k)\n",
    "        query =  query.view(query.shape[0],query.shape[1], self.h, self.d_k).transpose(1,2)\n",
    "        key =  key.view(key.shape[0],key.shape[1], self.h, self.d_k).transpose(1,2)\n",
    "        value =  value.view(value.shape[0],value.shape[1], self.h, self.d_k).transpose(1,2)\n",
    "\n",
    "        ## Applying attention on each head matrix\n",
    "        # (Batch, h, seq_len, d_k)\n",
    "        x, self.attention_scores = MultiHeadAttentionBlock.attention(query,key, value,mask,dropout= self.dropout)\n",
    "\n",
    "        #(Batch, h, seq_len, d_k) --> (Batch,  seq_len, h ,d_k) using transpose --> (Batch, seq_len, h*d_k = d_model)\n",
    "        x = x.transpose(1, 2).contiguous().view(x.shape[0], -1, self.h * self.d_k)\n",
    "\n",
    "        ## Linear transformation of value matrix\n",
    "        # (Batch, seq_len, d_model) ----> (Batch, seq_len, d_model)\n",
    "        return self.w_o(x)\n",
    "\n",
    "\n",
    "        \n",
    "        \n",
    "    "
   ]
  },
  {
   "cell_type": "code",
   "execution_count": 18,
   "metadata": {},
   "outputs": [],
   "source": [
    "# a = torch.randn(3,512)\n",
    "# print(a.shape[1])\n",
    "# a = a.view()"
   ]
  },
  {
   "cell_type": "code",
   "execution_count": 19,
   "metadata": {},
   "outputs": [
    {
     "data": {
      "text/plain": [
       "torch.Size([2])"
      ]
     },
     "execution_count": 19,
     "metadata": {},
     "output_type": "execute_result"
    }
   ],
   "source": [
    "a.size()"
   ]
  },
  {
   "cell_type": "code",
   "execution_count": 20,
   "metadata": {},
   "outputs": [],
   "source": [
    "query = torch.randn(1,2,1,2)\n",
    "# (Batch, h, Seq_len, d_k)\n",
    "h = query.shape[1]\n",
    "d_k = query.shape[-1]\n",
    "seq_len = query.shape[2]\n",
    "## what I want -- (1, seq_len, d_model)"
   ]
  },
  {
   "cell_type": "code",
   "execution_count": 21,
   "metadata": {},
   "outputs": [
    {
     "name": "stdout",
     "output_type": "stream",
     "text": [
      "tensor([[[[ 1.0655,  0.5363]],\n",
      "\n",
      "         [[-1.0024,  0.2427]]]])\n"
     ]
    }
   ],
   "source": [
    "print(query)"
   ]
  },
  {
   "cell_type": "code",
   "execution_count": 22,
   "metadata": {},
   "outputs": [],
   "source": [
    "query=query.transpose(1,2)"
   ]
  },
  {
   "cell_type": "code",
   "execution_count": 23,
   "metadata": {},
   "outputs": [
    {
     "data": {
      "text/plain": [
       "torch.Size([1, 1, 2, 2])"
      ]
     },
     "execution_count": 23,
     "metadata": {},
     "output_type": "execute_result"
    }
   ],
   "source": [
    "query.shape"
   ]
  },
  {
   "cell_type": "code",
   "execution_count": 24,
   "metadata": {},
   "outputs": [],
   "source": [
    "# a = MultiHeadAttentionBlock(d_model=512)\n",
    "# a.forward()"
   ]
  },
  {
   "cell_type": "markdown",
   "metadata": {},
   "source": [
    "### Self in Python\n",
    "- represent instance of class\n",
    "- \n"
   ]
  },
  {
   "cell_type": "markdown",
   "metadata": {},
   "source": [
    "## nn.Dropout ?\n"
   ]
  },
  {
   "cell_type": "markdown",
   "metadata": {},
   "source": [
    "## Assert Keyword Python\n",
    "### I can customize the assertion error"
   ]
  },
  {
   "cell_type": "code",
   "execution_count": 25,
   "metadata": {},
   "outputs": [],
   "source": [
    "x  = 90\n",
    "\n",
    "assert x == 90, \"Not equal\""
   ]
  },
  {
   "cell_type": "markdown",
   "metadata": {},
   "source": [
    "### query.view()\n",
    "### to change the dimension of array"
   ]
  },
  {
   "cell_type": "code",
   "execution_count": 26,
   "metadata": {},
   "outputs": [],
   "source": [
    "query = torch.randn(3,2)\n",
    "query = query.view(size= [1,6])\n"
   ]
  },
  {
   "cell_type": "code",
   "execution_count": 27,
   "metadata": {},
   "outputs": [
    {
     "name": "stdout",
     "output_type": "stream",
     "text": [
      "tensor([[ 3.2773, -0.8508, -0.3612,  0.6094, -1.3985,  1.8431]])\n"
     ]
    }
   ],
   "source": [
    "print( query)"
   ]
  },
  {
   "cell_type": "code",
   "execution_count": 28,
   "metadata": {},
   "outputs": [],
   "source": [
    "query = query.transpose(1,0)\n"
   ]
  },
  {
   "cell_type": "code",
   "execution_count": 29,
   "metadata": {},
   "outputs": [
    {
     "name": "stdout",
     "output_type": "stream",
     "text": [
      "tensor([[ 3.2773],\n",
      "        [-0.8508],\n",
      "        [-0.3612],\n",
      "        [ 0.6094],\n",
      "        [-1.3985],\n",
      "        [ 1.8431]])\n"
     ]
    }
   ],
   "source": [
    "print(query)"
   ]
  },
  {
   "cell_type": "code",
   "execution_count": 30,
   "metadata": {},
   "outputs": [
    {
     "data": {
      "text/plain": [
       "6"
      ]
     },
     "execution_count": 30,
     "metadata": {},
     "output_type": "execute_result"
    }
   ],
   "source": [
    "query.shape[-2]"
   ]
  },
  {
   "cell_type": "markdown",
   "metadata": {},
   "source": [
    "### Matrix Multiplication using @"
   ]
  },
  {
   "cell_type": "code",
   "execution_count": 31,
   "metadata": {},
   "outputs": [],
   "source": [
    "a = torch.tensor([1,2,3])\n",
    "b = torch.tensor([3,4,5])\n",
    "b = b.view(3,1) "
   ]
  },
  {
   "cell_type": "code",
   "execution_count": 32,
   "metadata": {},
   "outputs": [],
   "source": [
    "# query = torch.randn(1,3,512)\n",
    "# print(query.shape[2])\n",
    "# query.view(query.shape[0], query.shape[1], )"
   ]
  },
  {
   "cell_type": "code",
   "execution_count": 33,
   "metadata": {},
   "outputs": [],
   "source": [
    "# query.view()"
   ]
  },
  {
   "cell_type": "markdown",
   "metadata": {},
   "source": [
    "## dim  = -1 ??"
   ]
  },
  {
   "cell_type": "code",
   "execution_count": 34,
   "metadata": {},
   "outputs": [
    {
     "name": "stdout",
     "output_type": "stream",
     "text": [
      "4\n"
     ]
    }
   ],
   "source": [
    "a = torch.tensor([[1,2,3,4],[5,6,7,8]])\n",
    "a = a.float()\n",
    "print(a.shape[-1])\n",
    "# print(a.softmax(dim = -1))\n",
    "# help(softmax)"
   ]
  },
  {
   "cell_type": "markdown",
   "metadata": {},
   "source": [
    "## Softmax Function Pytorch ??\n"
   ]
  },
  {
   "cell_type": "markdown",
   "metadata": {},
   "source": [
    "## torch.Tensor.Contiguous ??"
   ]
  },
  {
   "cell_type": "code",
   "execution_count": 35,
   "metadata": {},
   "outputs": [
    {
     "name": "stdout",
     "output_type": "stream",
     "text": [
      "tensor([[[[-1.1258, -1.1524, -0.2506, -0.4339],\n",
      "          [ 0.8487,  0.6920, -0.3160, -2.1152],\n",
      "          [ 0.4681, -0.1577,  1.4437,  0.2660]],\n",
      "\n",
      "         [[ 0.1665,  0.8744, -0.1435, -0.1116],\n",
      "          [ 0.9318,  1.2590,  2.0050,  0.0537],\n",
      "          [ 0.6181, -0.4128, -0.8411, -2.3160]]]])\n",
      "torch.Size([1, 2, 3, 4])\n",
      "tensor([[[-1.1258, -1.1524, -0.2506, -0.4339,  0.1665,  0.8744, -0.1435,\n",
      "          -0.1116,  0.8487,  0.6920, -0.3160, -2.1152],\n",
      "         [ 0.9318,  1.2590,  2.0050,  0.0537,  0.4681, -0.1577,  1.4437,\n",
      "           0.2660,  0.6181, -0.4128, -0.8411, -2.3160]]])\n",
      "torch.Size([1, 2, 12])\n"
     ]
    }
   ],
   "source": [
    "#(Batch, h, seq_len, d_k) --> (Batch,seq_len, h ,d_k) ---> (Batch, seq_len, d_k*h = d_model)\n",
    "\n",
    "# Using contiguous\n",
    "\n",
    "torch.manual_seed(seed=0)\n",
    "key = torch.randn(1,2,3,4)\n",
    "print(key)\n",
    "print(key.shape)\n",
    "\n",
    "\n",
    "\n",
    "key = key.transpose(1,2).contiguous().view(key.shape[0],-1, key.shape[-2]*key.shape[-1])\n",
    "print(key)\n",
    "\n",
    "print(key.shape)\n",
    "\n",
    "\n",
    "\n"
   ]
  },
  {
   "cell_type": "code",
   "execution_count": 36,
   "metadata": {},
   "outputs": [
    {
     "name": "stdout",
     "output_type": "stream",
     "text": [
      "tensor([[[-1.1258,  0.9318, -1.1524,  1.2590, -0.2506,  2.0050, -0.4339,\n",
      "           0.0537,  0.1665,  0.4681,  0.8744, -0.1577, -0.1435,  1.4437,\n",
      "          -0.1116,  0.2660,  0.8487,  0.6181,  0.6920, -0.4128, -0.3160,\n",
      "          -0.8411, -2.1152, -2.3160]]])\n",
      "torch.Size([1, 1, 24])\n"
     ]
    }
   ],
   "source": [
    "key = key.transpose(1,2).contiguous().view(key.shape[0],-1, key.shape[-2]*key.shape[-1])\n",
    "print(key)\n",
    "\n",
    "print(key.shape)"
   ]
  },
  {
   "cell_type": "markdown",
   "metadata": {},
   "source": [
    "# 5.) Residual Connection\n",
    "Still need to understand where is it applied?"
   ]
  },
  {
   "cell_type": "code",
   "execution_count": 38,
   "metadata": {},
   "outputs": [],
   "source": [
    "class ResidualConnection(nn.Module):\n",
    "\n",
    "    ## dropout to reduce overfitting\n",
    "    def __init__(self, dropout: float) -> None:\n",
    "        super().__init__()\n",
    "        self.dropout = nn.Dropout(dropout)\n",
    "        self.norm = LayerNormalization()\n",
    "\n",
    "    def forward(self, x, sublayer):\n",
    "        return x + self.dropout(sublayer(self.norm(x)))"
   ]
  },
  {
   "cell_type": "markdown",
   "metadata": {},
   "source": [
    "# 6.) Encoder Block"
   ]
  },
  {
   "cell_type": "code",
   "execution_count": 40,
   "metadata": {},
   "outputs": [],
   "source": [
    "class EncoderBlock(nn.Module):\n",
    "\n",
    "    def __init__(self,self_attention_block: MultiHeadAttentionBlock, feed_forward_block: FeedForwardBlock, dropout: float) -> None:\n",
    "        super().__init__()\n",
    "\n",
    "        #Layers needed in an encoder block\n",
    "        # Multihead\n",
    "        self.self_attention_block = self_attention_block\n",
    "\n",
    "        # feed forward\n",
    "        self.feed_forward_block = feed_forward_block\n",
    "        \n",
    "        # Residual layer block\n",
    "        self.residual_connections = nn.ModuleList([ResidualConnection(dropout) for _ in range(2)])\n",
    "\n",
    "\n",
    "    def forward(self, x, src_mask):\n",
    "\n",
    "        # multihead    \n",
    "\n",
    "        # 1st residual layer output\n",
    "        x = self.residual_connections[0](x, lambda x : self.self_attention_block(x,x,x, src_mask))\n",
    "\n",
    "        # 2nd residual layer output\n",
    "        x = self.residual_connections[1](x, self.feed_forward_block)\n",
    "\n",
    "        return x\n"
   ]
  },
  {
   "cell_type": "markdown",
   "metadata": {},
   "source": [
    "# nn.ModuleList() ??"
   ]
  },
  {
   "cell_type": "code",
   "execution_count": null,
   "metadata": {},
   "outputs": [],
   "source": [
    "## indexed like a regulary Python list\n",
    "## modules are properly registered\n",
    "## visible by all Module methods\n",
    "\n",
    "\n"
   ]
  },
  {
   "cell_type": "code",
   "execution_count": 81,
   "metadata": {},
   "outputs": [
    {
     "name": "stdout",
     "output_type": "stream",
     "text": [
      "tensor([[1., 2., 3.]], dtype=torch.float64)\n"
     ]
    }
   ],
   "source": [
    "print(b)"
   ]
  },
  {
   "cell_type": "code",
   "execution_count": 84,
   "metadata": {},
   "outputs": [
    {
     "name": "stdout",
     "output_type": "stream",
     "text": [
      "torch.Size([3, 1])\n",
      "torch.Size([3, 1])\n"
     ]
    }
   ],
   "source": [
    "a = nn.Linear(1,3,dtype=float)\n",
    "print(a.weight.shape)\n",
    "b = torch.tensor([[1,2,3]],dtype=float).transpose(0,1)\n",
    "print(b.shape)\n",
    "\n",
    "b = a(b)"
   ]
  },
  {
   "cell_type": "code",
   "execution_count": 85,
   "metadata": {},
   "outputs": [
    {
     "data": {
      "text/plain": [
       "tensor([[0.1719, 0.5601, 0.6506],\n",
       "        [1.0706, 1.2657, 0.4044],\n",
       "        [1.9693, 1.9713, 0.1582]], dtype=torch.float64,\n",
       "       grad_fn=<AddmmBackward0>)"
      ]
     },
     "execution_count": 85,
     "metadata": {},
     "output_type": "execute_result"
    }
   ],
   "source": [
    "b"
   ]
  },
  {
   "cell_type": "code",
   "execution_count": 58,
   "metadata": {},
   "outputs": [
    {
     "name": "stdout",
     "output_type": "stream",
     "text": [
      "Linear(in_features=3, out_features=10, bias=True)\n"
     ]
    }
   ],
   "source": []
  },
  {
   "cell_type": "code",
   "execution_count": 73,
   "metadata": {},
   "outputs": [],
   "source": [
    "# b = a[0](b)\n",
    "# print(b)"
   ]
  },
  {
   "cell_type": "markdown",
   "metadata": {},
   "source": [
    "## ModuleListExample"
   ]
  },
  {
   "cell_type": "code",
   "execution_count": 87,
   "metadata": {},
   "outputs": [
    {
     "ename": "IndentationError",
     "evalue": "expected an indented block (3457403226.py, line 11)",
     "output_type": "error",
     "traceback": [
      "\u001b[0;36m  Cell \u001b[0;32mIn[87], line 11\u001b[0;36m\u001b[0m\n\u001b[0;31m    \u001b[0m\n\u001b[0m    ^\u001b[0m\n\u001b[0;31mIndentationError\u001b[0m\u001b[0;31m:\u001b[0m expected an indented block\n"
     ]
    }
   ],
   "source": [
    "## ModuleListExample\n",
    "\n",
    "class MyModule(nn.Module):\n",
    "\n",
    "    def __init__(self ) -> None:\n",
    "        super().__init__()\n",
    "        self.linears = nn.ModuleList([nn.Linear(10,10) for _ in range(10)])\n",
    "\n",
    "\n",
    "    def forward(self, x):\n",
    "            "
   ]
  },
  {
   "cell_type": "markdown",
   "metadata": {},
   "source": [
    "# enumerate() ?? why to use ? when to use ?"
   ]
  },
  {
   "cell_type": "code",
   "execution_count": 122,
   "metadata": {},
   "outputs": [
    {
     "name": "stdout",
     "output_type": "stream",
     "text": [
      "Linear(in_features=10, out_features=10, bias=True)\n",
      "Linear(in_features=10, out_features=10, bias=True)\n",
      "Linear(in_features=10, out_features=10, bias=True)\n",
      "Linear(in_features=10, out_features=10, bias=True)\n",
      "Linear(in_features=10, out_features=10, bias=True)\n",
      "Linear(in_features=10, out_features=10, bias=True)\n",
      "Linear(in_features=10, out_features=10, bias=True)\n",
      "Linear(in_features=10, out_features=10, bias=True)\n",
      "Linear(in_features=10, out_features=10, bias=True)\n",
      "Linear(in_features=10, out_features=10, bias=True)\n"
     ]
    }
   ],
   "source": [
    "a = nn.ModuleList([nn.Linear(10,10) for _ in range(10)])\n",
    "b = enumerate(a)\n",
    "for c in b:\n",
    "    print(c[1])"
   ]
  },
  {
   "cell_type": "code",
   "execution_count": 137,
   "metadata": {},
   "outputs": [
    {
     "name": "stdout",
     "output_type": "stream",
     "text": [
      "tensor([[[ 1.8662, -0.6956,  0.1612],\n",
      "         [ 0.7041,  0.4871,  0.9247]]])\n"
     ]
    }
   ],
   "source": [
    "#  (Batch, seq_len, d_model)\n",
    "\n",
    "g = torch.randn(1,2,3)\n",
    "print(g)"
   ]
  },
  {
   "cell_type": "code",
   "execution_count": 138,
   "metadata": {},
   "outputs": [],
   "source": [
    "a = (x ,lambda x : g)"
   ]
  },
  {
   "cell_type": "code",
   "execution_count": 142,
   "metadata": {},
   "outputs": [
    {
     "name": "stdout",
     "output_type": "stream",
     "text": [
      "(90, <function <lambda> at 0x1394c29d0>)\n"
     ]
    }
   ],
   "source": [
    "print(a)"
   ]
  },
  {
   "cell_type": "code",
   "execution_count": 149,
   "metadata": {},
   "outputs": [],
   "source": [
    "fish = MultiHeadAttentionBlock(8,8,1)"
   ]
  },
  {
   "cell_type": "markdown",
   "metadata": {},
   "source": [
    "## 7.) Encoder"
   ]
  },
  {
   "cell_type": "code",
   "execution_count": null,
   "metadata": {},
   "outputs": [],
   "source": []
  },
  {
   "cell_type": "code",
   "execution_count": null,
   "metadata": {},
   "outputs": [],
   "source": []
  },
  {
   "cell_type": "code",
   "execution_count": null,
   "metadata": {},
   "outputs": [],
   "source": []
  },
  {
   "cell_type": "code",
   "execution_count": null,
   "metadata": {},
   "outputs": [],
   "source": []
  },
  {
   "cell_type": "code",
   "execution_count": null,
   "metadata": {},
   "outputs": [],
   "source": []
  },
  {
   "cell_type": "code",
   "execution_count": null,
   "metadata": {},
   "outputs": [],
   "source": []
  },
  {
   "cell_type": "code",
   "execution_count": null,
   "metadata": {},
   "outputs": [],
   "source": []
  },
  {
   "cell_type": "code",
   "execution_count": null,
   "metadata": {},
   "outputs": [],
   "source": []
  },
  {
   "cell_type": "code",
   "execution_count": null,
   "metadata": {},
   "outputs": [],
   "source": []
  },
  {
   "cell_type": "code",
   "execution_count": null,
   "metadata": {},
   "outputs": [],
   "source": []
  },
  {
   "cell_type": "code",
   "execution_count": null,
   "metadata": {},
   "outputs": [],
   "source": []
  },
  {
   "cell_type": "code",
   "execution_count": null,
   "metadata": {},
   "outputs": [],
   "source": []
  },
  {
   "cell_type": "code",
   "execution_count": null,
   "metadata": {},
   "outputs": [],
   "source": []
  },
  {
   "cell_type": "code",
   "execution_count": null,
   "metadata": {},
   "outputs": [],
   "source": []
  },
  {
   "cell_type": "code",
   "execution_count": null,
   "metadata": {},
   "outputs": [],
   "source": []
  },
  {
   "cell_type": "code",
   "execution_count": null,
   "metadata": {},
   "outputs": [],
   "source": []
  },
  {
   "cell_type": "code",
   "execution_count": null,
   "metadata": {},
   "outputs": [],
   "source": []
  },
  {
   "cell_type": "code",
   "execution_count": null,
   "metadata": {},
   "outputs": [],
   "source": []
  },
  {
   "cell_type": "code",
   "execution_count": null,
   "metadata": {},
   "outputs": [],
   "source": []
  },
  {
   "cell_type": "code",
   "execution_count": null,
   "metadata": {},
   "outputs": [],
   "source": []
  },
  {
   "cell_type": "code",
   "execution_count": null,
   "metadata": {},
   "outputs": [],
   "source": []
  },
  {
   "cell_type": "code",
   "execution_count": null,
   "metadata": {},
   "outputs": [],
   "source": []
  },
  {
   "cell_type": "code",
   "execution_count": null,
   "metadata": {},
   "outputs": [],
   "source": [
    "\n"
   ]
  },
  {
   "cell_type": "code",
   "execution_count": null,
   "metadata": {},
   "outputs": [],
   "source": []
  }
 ],
 "metadata": {
  "kernelspec": {
   "display_name": "testenv",
   "language": "python",
   "name": "testenv"
  },
  "language_info": {
   "codemirror_mode": {
    "name": "ipython",
    "version": 3
   },
   "file_extension": ".py",
   "mimetype": "text/x-python",
   "name": "python",
   "nbconvert_exporter": "python",
   "pygments_lexer": "ipython3",
   "version": "3.9.15"
  }
 },
 "nbformat": 4,
 "nbformat_minor": 2
}
