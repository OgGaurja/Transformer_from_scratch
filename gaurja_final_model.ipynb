{
 "cells": [
  {
   "cell_type": "code",
   "execution_count": 1,
   "metadata": {},
   "outputs": [],
   "source": [
    "import torch\n",
    "import torch.nn as nn\n",
    "import math"
   ]
  },
  {
   "cell_type": "code",
   "execution_count": 2,
   "metadata": {},
   "outputs": [],
   "source": [
    "class InputEmbeddings(nn.Module):\n",
    "    def __init__(self, d_model:int, vocab_size: int ):\n",
    "        super().__init__()\n",
    "        self.d_model = d_model\n",
    "        self.vocab_size = vocab_size\n",
    "        self.embedding = nn.Embedding(num_embeddings=vocab_size, embedding_dim=d_model)\n",
    "\n",
    "    def forward(self,x):\n",
    "        return self.embedding * math.sqrt(self.d_model)     "
   ]
  },
  {
   "cell_type": "code",
   "execution_count": 3,
   "metadata": {},
   "outputs": [],
   "source": [
    "class PositionalEncoding(nn.Module):\n",
    "\n",
    "    def __init__(self, d_model: int, seq_len: int, dropout: float) -> None:\n",
    "        super().__init__()\n",
    "        self.d_model = d_model\n",
    "        self.seq_len = seq_len\n",
    "        self.dropout = nn.Dropout(dropout)\n",
    "\n",
    "        #Create a matrix of shape(seq_len, d_model)\n",
    "        pe = torch.zeros(seq_len, d_model)\n",
    "\n",
    "        #Create a vector of shape (seq_len, 1)\n",
    "        position = torch.arange(0, seq_len, dtype=torch.float).unsqueeze(1)\n",
    "\n",
    "        div_term = torch.exp(torch.arange(0,d_model,2).float() * (-math.log(10000.0)/d_model))\n",
    "\n",
    "        #Apply the sine to even postions\n",
    "        pe[: , 0::2] = torch.sin(position * div_term)\n",
    "        pe[: , 1::2] = torch.cos(position * div_term)\n",
    "\n",
    "        pe = pe.unsqueeze(0) # (1,Seq_len, d_model)\n",
    "        self.register_buffer('pe',pe)\n",
    "\n",
    "    \n",
    "    \n",
    "    def forward(self, x):\n",
    "        x = x+ (self.pe[:, :x.shape[1], :]).requires_grad(False)\n",
    "        return self.dropout(x)"
   ]
  },
  {
   "cell_type": "markdown",
   "metadata": {},
   "source": [
    "### Building Add and Norm Layer"
   ]
  },
  {
   "cell_type": "markdown",
   "metadata": {},
   "source": [
    "__dfdfdfd__\n",
    "\n",
    "_dfdf_ \n",
    "**dfdf** "
   ]
  },
  {
   "cell_type": "code",
   "execution_count": 4,
   "metadata": {},
   "outputs": [
    {
     "name": "stdout",
     "output_type": "stream",
     "text": [
      "0.001\n"
     ]
    }
   ],
   "source": [
    "print(10**-3)"
   ]
  },
  {
   "cell_type": "code",
   "execution_count": 5,
   "metadata": {},
   "outputs": [],
   "source": [
    "class LayerNormalization(nn.Module):\n",
    "\n",
    "    # constructor\n",
    "    def __init__(self, eps: float = 10**-6) -> None:\n",
    "        super.__init__()\n",
    "        self.eps = eps\n",
    "\n",
    "        # Trainable parameters of neural net\n",
    "        self.alpha = nn.Parameter(data= torch.ones(1)) #alpha = multiplicative\n",
    "        self.bias = nn.Parameter(data= torch.ones(1)) # bias = additive\n",
    "\n",
    "    def forward(self, x):\n",
    "        mean = x.mean(dim = -1, keepdim = True)\n",
    "        std = x.std(dim = -1, keepdim = True)\n",
    "        return self.alpha * (x - mean)/(std + self.eps) + self.bias"
   ]
  },
  {
   "cell_type": "code",
   "execution_count": 6,
   "metadata": {},
   "outputs": [],
   "source": [
    "a = torch.tensor([1,12])\n",
    "b = a.mean(dtype=float, dim=0)"
   ]
  },
  {
   "cell_type": "code",
   "execution_count": 7,
   "metadata": {},
   "outputs": [
    {
     "data": {
      "text/plain": [
       "tensor(6.5000, dtype=torch.float64)"
      ]
     },
     "execution_count": 7,
     "metadata": {},
     "output_type": "execute_result"
    }
   ],
   "source": [
    "b"
   ]
  },
  {
   "cell_type": "markdown",
   "metadata": {},
   "source": [
    "# 4.) Feed Forward Block\n",
    "### Contains two Linear transformations and a ReLU in between"
   ]
  },
  {
   "cell_type": "code",
   "execution_count": 8,
   "metadata": {},
   "outputs": [],
   "source": [
    "class FeedForwardBlock(nn.Module):\n",
    "    def __init__(self, d_model: int, d_ff: int, dropout: int) -> None:\n",
    "        super().__init__()\n",
    "        self.linear_1 = nn.Linear(d_model, d_ff) # W1 and B1\n",
    "        self.dropout = nn.Dropout(dropout)\n",
    "        self.linear_2 = nn.Linear(d_ff, d_model) # W2 and B2\n",
    "\n",
    "    def forward(self, x):\n",
    "        # (Batch, Seq_len, d_model) ---> (Batch, seq_len, d_ff) ---> (Batch, seq_len, d_model)\n",
    "        return self.linear_2(self.dropout(torch.relu(self.linear_1(x))))"
   ]
  },
  {
   "cell_type": "markdown",
   "metadata": {},
   "source": [
    "# 5) Multihead Attention"
   ]
  },
  {
   "cell_type": "code",
   "execution_count": 9,
   "metadata": {},
   "outputs": [],
   "source": [
    "# Linear Transformation \n",
    "w_q = nn.Linear(3,4)"
   ]
  },
  {
   "cell_type": "code",
   "execution_count": 10,
   "metadata": {},
   "outputs": [
    {
     "name": "stdout",
     "output_type": "stream",
     "text": [
      "Parameter containing:\n",
      "tensor([[ 0.0687,  0.0798, -0.3189],\n",
      "        [-0.3182, -0.0675, -0.1275],\n",
      "        [ 0.0954,  0.0717,  0.2598],\n",
      "        [-0.0671, -0.5393, -0.3109]], requires_grad=True)\n",
      "Parameter containing:\n",
      "tensor([-0.4992,  0.1079,  0.1394,  0.2484], requires_grad=True)\n"
     ]
    }
   ],
   "source": [
    "print(w_q.weight)\n",
    "print(w_q.bias)"
   ]
  },
  {
   "cell_type": "code",
   "execution_count": 11,
   "metadata": {},
   "outputs": [
    {
     "name": "stdout",
     "output_type": "stream",
     "text": [
      "tensor([[-0.1093,  0.0028, -0.5319],\n",
      "        [-0.2542,  2.1631, -0.4545],\n",
      "        [-0.0384, -0.6592,  0.9634],\n",
      "        [ 0.9426,  1.0073, -0.7800]])\n"
     ]
    }
   ],
   "source": [
    "input = torch.randn(4,3)\n",
    "print(input)"
   ]
  },
  {
   "cell_type": "code",
   "execution_count": 12,
   "metadata": {},
   "outputs": [],
   "source": [
    "# print(input)"
   ]
  },
  {
   "cell_type": "code",
   "execution_count": 13,
   "metadata": {},
   "outputs": [
    {
     "name": "stdout",
     "output_type": "stream",
     "text": [
      "tensor([[-0.0000,  0.0000, -0.0000],\n",
      "        [-0.0000,  0.0000, -0.0000],\n",
      "        [-0.0767, -1.3184,  0.0000],\n",
      "        [ 0.0000,  2.0147, -0.0000]])\n"
     ]
    }
   ],
   "source": [
    "# w_q(input)\n",
    "dropout = nn.Dropout()\n",
    "print(dropout(input))"
   ]
  },
  {
   "cell_type": "code",
   "execution_count": 14,
   "metadata": {},
   "outputs": [
    {
     "name": "stdout",
     "output_type": "stream",
     "text": [
      "Dropout(p=0.5, inplace=False)\n"
     ]
    }
   ],
   "source": [
    "print(dropout)"
   ]
  },
  {
   "cell_type": "code",
   "execution_count": 15,
   "metadata": {},
   "outputs": [],
   "source": [
    "## Fair\n",
    "\n",
    "class MultiHeadAttentionBlock(nn.Module):\n",
    "\n",
    "    def __init__(self, d_model: int, h: int, dropout: float ) -> None:\n",
    "        super().__init__()\n",
    "        self.d_model = d_model\n",
    "        self.h = h\n",
    "        \n",
    "        assert d_model % h == 0, \"d_model is not divisible by 4\"\n",
    "        \n",
    "        ## Integer division //\n",
    "        ## d_k = dimension of each head\n",
    "        self.d_k = d_model // h\n",
    "\n",
    "        self.w_q = nn.Linear(d_model, d_model)\n",
    "        self.w_k = nn.Linear(d_model, d_model)\n",
    "        self.w_v = nn.Linear(d_model, d_model)\n",
    "\n",
    "        self.w_o = nn.Linear(d_model, d_model)\n",
    "        self.dropout = nn.Dropout(dropout)\n",
    "\n",
    "    # A static method can be called without an instance\n",
    "    @staticmethod\n",
    "    def attention(query, key, value,  mask, dropout: nn.Dropout):\n",
    "        d_k = query.shape[-1]\n",
    "\n",
    "        # (Batch,h, Seq_len, d_k) x (Batch,h, d_k, Seq_len) = (Batch, h, Seq_len, Seq_len)\n",
    "        attention_scores = (query @ key.transpose(-2,-1))/ math.sqrt(d_k)\n",
    "\n",
    "        ## before applying softmax, mask the values\n",
    "        if mask is not None:\n",
    "            attention_scores.masked_fill(mask == 0, -1e9)\n",
    "\n",
    "        # Now apply softmax\n",
    "        attention_scores =  attention_scores.softmax(dim = -1)  #(Batch, h, seq_len,seq_len)\n",
    "\n",
    "        if dropout is not None:\n",
    "            attention_scores = dropout(attention_scores)\n",
    "\n",
    "        #(Batch, h, seq_len,seq_len) x (Batch,h, Seq_len, d_k) = (Batch, h, seq_len, d_k)\n",
    "        return (attention_scores @ value), attention_scores    \n",
    "    \n",
    "        \n",
    "\n",
    "\n",
    "\n",
    "    def forward(self, q,k,v, mask):\n",
    "\n",
    "        ## final arrays for Multihead\n",
    "        ## dimension of q = seq x d_model\n",
    "        # w_q == > [d_mode, d_moel]\n",
    "        # seq x d_model (MatMUl) ==>>  \n",
    "        query  = self.w_q(q)   ## dimensions [seq x d_model]\n",
    "        key  = self.w_k(k)   \n",
    "        value  = self.w_v(v)\n",
    "\n",
    "        ## dividing each matrix into number of heads\n",
    "\n",
    "        #(Batch, Seq_len, d_model) --> (Batch, Seq_len, h, d_k) --> (Batch,h, Seq_len, d_k)\n",
    "        query =  query.view(query.shape[0],query.shape[1], self.h, self.d_k).transpose(1,2)\n",
    "        key =  key.view(key.shape[0],key.shape[1], self.h, self.d_k).transpose(1,2)\n",
    "        value =  value.view(value.shape[0],value.shape[1], self.h, self.d_k).transpose(1,2)\n",
    "\n",
    "        ## Applying attention on each head matrix\n",
    "        # (Batch, h, seq_len, d_k)\n",
    "        x, self.attention_scores = MultiHeadAttentionBlock.attention(query,key, value,mask,dropout= self.dropout)\n",
    "\n",
    "        #(Batch, h, seq_len, d_k) --> (Batch,  seq_len, h ,d_k) using transpose --> (Batch, seq_len, h*d_k = d_model)\n",
    "\n",
    "        \n",
    "\n",
    "        \n",
    "        \n",
    "    "
   ]
  },
  {
   "cell_type": "code",
   "execution_count": 17,
   "metadata": {},
   "outputs": [],
   "source": [
    "# a = torch.randn(3,512)\n",
    "# print(a.shape[1])\n",
    "# a = a.view()"
   ]
  },
  {
   "cell_type": "code",
   "execution_count": 18,
   "metadata": {},
   "outputs": [
    {
     "data": {
      "text/plain": [
       "torch.Size([3, 512])"
      ]
     },
     "execution_count": 18,
     "metadata": {},
     "output_type": "execute_result"
    }
   ],
   "source": [
    "a.size()"
   ]
  },
  {
   "cell_type": "code",
   "execution_count": 19,
   "metadata": {},
   "outputs": [],
   "source": [
    "query = torch.randn(1,2,1,2)\n",
    "# (Batch, h, Seq_len, d_k)\n",
    "h = query.shape[1]\n",
    "d_k = query.shape[-1]\n",
    "seq_len = query.shape[2]\n",
    "## what I want -- (1, seq_len, d_model)"
   ]
  },
  {
   "cell_type": "code",
   "execution_count": 20,
   "metadata": {},
   "outputs": [
    {
     "name": "stdout",
     "output_type": "stream",
     "text": [
      "tensor([[[[-0.0681,  1.5254]],\n",
      "\n",
      "         [[ 0.7955,  1.3008]]]])\n"
     ]
    }
   ],
   "source": [
    "print(query)"
   ]
  },
  {
   "cell_type": "code",
   "execution_count": 21,
   "metadata": {},
   "outputs": [],
   "source": [
    "query=query.transpose(1,2)"
   ]
  },
  {
   "cell_type": "code",
   "execution_count": 22,
   "metadata": {},
   "outputs": [
    {
     "data": {
      "text/plain": [
       "torch.Size([1, 1, 2, 2])"
      ]
     },
     "execution_count": 22,
     "metadata": {},
     "output_type": "execute_result"
    }
   ],
   "source": [
    "query.shape"
   ]
  },
  {
   "cell_type": "code",
   "execution_count": 24,
   "metadata": {},
   "outputs": [],
   "source": [
    "# a = MultiHeadAttentionBlock(d_model=512)\n",
    "# a.forward()"
   ]
  },
  {
   "cell_type": "markdown",
   "metadata": {},
   "source": [
    "### Self in Python\n",
    "- represent instance of class\n",
    "- \n"
   ]
  },
  {
   "cell_type": "markdown",
   "metadata": {},
   "source": [
    "## nn.Dropout ?\n"
   ]
  },
  {
   "cell_type": "markdown",
   "metadata": {},
   "source": [
    "## Assert Keyword Python\n",
    "### I can customize the assertion error"
   ]
  },
  {
   "cell_type": "code",
   "execution_count": 25,
   "metadata": {},
   "outputs": [],
   "source": [
    "x  = 90\n",
    "\n",
    "assert x == 90, \"Not equal\""
   ]
  },
  {
   "cell_type": "markdown",
   "metadata": {},
   "source": [
    "### query.view()\n",
    "### to change the dimension of array"
   ]
  },
  {
   "cell_type": "code",
   "execution_count": 26,
   "metadata": {},
   "outputs": [],
   "source": [
    "query = torch.randn(3,2)\n",
    "query = query.view(size= [1,6])\n"
   ]
  },
  {
   "cell_type": "code",
   "execution_count": 27,
   "metadata": {},
   "outputs": [
    {
     "name": "stdout",
     "output_type": "stream",
     "text": [
      "tensor([[-0.2488, -0.8772,  0.2910,  0.2125, -0.9777, -1.0864]])\n"
     ]
    }
   ],
   "source": [
    "print( query)"
   ]
  },
  {
   "cell_type": "code",
   "execution_count": 28,
   "metadata": {},
   "outputs": [],
   "source": [
    "query = query.transpose(1,0)\n"
   ]
  },
  {
   "cell_type": "code",
   "execution_count": 29,
   "metadata": {},
   "outputs": [
    {
     "name": "stdout",
     "output_type": "stream",
     "text": [
      "tensor([[-0.2488],\n",
      "        [-0.8772],\n",
      "        [ 0.2910],\n",
      "        [ 0.2125],\n",
      "        [-0.9777],\n",
      "        [-1.0864]])\n"
     ]
    }
   ],
   "source": [
    "print(query)"
   ]
  },
  {
   "cell_type": "code",
   "execution_count": 30,
   "metadata": {},
   "outputs": [
    {
     "data": {
      "text/plain": [
       "6"
      ]
     },
     "execution_count": 30,
     "metadata": {},
     "output_type": "execute_result"
    }
   ],
   "source": [
    "query.shape[-2]"
   ]
  },
  {
   "cell_type": "markdown",
   "metadata": {},
   "source": [
    "### Matrix Multiplication using @"
   ]
  },
  {
   "cell_type": "code",
   "execution_count": 31,
   "metadata": {},
   "outputs": [],
   "source": [
    "a = torch.tensor([1,2,3])\n",
    "b = torch.tensor([3,4,5])\n",
    "b = b.view(3,1) "
   ]
  },
  {
   "cell_type": "code",
   "execution_count": 33,
   "metadata": {},
   "outputs": [],
   "source": [
    "# query = torch.randn(1,3,512)\n",
    "# print(query.shape[2])\n",
    "# query.view(query.shape[0], query.shape[1], )"
   ]
  },
  {
   "cell_type": "code",
   "execution_count": 35,
   "metadata": {},
   "outputs": [],
   "source": [
    "# query.view()"
   ]
  },
  {
   "cell_type": "markdown",
   "metadata": {},
   "source": [
    "## dim  = -1 ??"
   ]
  },
  {
   "cell_type": "code",
   "execution_count": 36,
   "metadata": {},
   "outputs": [
    {
     "name": "stdout",
     "output_type": "stream",
     "text": [
      "4\n"
     ]
    }
   ],
   "source": [
    "a = torch.tensor([[1,2,3,4],[5,6,7,8]])\n",
    "a = a.float()\n",
    "print(a.shape[-1])\n",
    "# print(a.softmax(dim = -1))\n",
    "# help(softmax)"
   ]
  },
  {
   "cell_type": "markdown",
   "metadata": {},
   "source": [
    "## Softmax Function Pytorch ??\n"
   ]
  },
  {
   "cell_type": "markdown",
   "metadata": {},
   "source": [
    "## torch.Tensor.Contiguous ??"
   ]
  },
  {
   "cell_type": "code",
   "execution_count": 47,
   "metadata": {},
   "outputs": [],
   "source": [
    "#(Batch, h, seq_len, d_k) --> (Batch, seq_len, h, d_k) --> (Batch, seq_len, h*d_k = d_model)\n",
    "torch.manual_seed(seed=0)\n",
    "query = torch.randn(2,3,4,5)\n",
    "\n",
    "# output required (2,4,3,5)\n",
    "query = query.view(2,4, 15)"
   ]
  },
  {
   "cell_type": "code",
   "execution_count": 48,
   "metadata": {},
   "outputs": [
    {
     "data": {
      "text/plain": [
       "tensor([[[-1.1258e+00, -1.1524e+00, -2.5058e-01, -4.3388e-01,  8.4871e-01,\n",
       "           6.9201e-01, -3.1601e-01, -2.1152e+00,  3.2227e-01, -1.2633e+00,\n",
       "           3.4998e-01,  3.0813e-01,  1.1984e-01,  1.2377e+00,  1.1168e+00],\n",
       "         [-2.4728e-01, -1.3527e+00, -1.6959e+00,  5.6665e-01,  7.9351e-01,\n",
       "           5.9884e-01, -1.5551e+00, -3.4136e-01,  1.8530e+00,  7.5019e-01,\n",
       "          -5.8550e-01, -1.7340e-01,  1.8348e-01,  1.3894e+00,  1.5863e+00],\n",
       "         [ 9.4630e-01, -8.4368e-01, -6.1358e-01,  3.1593e-02, -4.9268e-01,\n",
       "           2.4841e-01,  4.3970e-01,  1.1241e-01,  6.4079e-01,  4.4116e-01,\n",
       "          -1.0231e-01,  7.9244e-01, -2.8967e-01,  5.2507e-02,  5.2286e-01],\n",
       "         [ 2.3022e+00, -1.4689e+00, -1.5867e+00, -6.7309e-01,  8.7283e-01,\n",
       "           1.0554e+00,  1.7784e-01, -2.3034e-01, -3.9175e-01,  5.4329e-01,\n",
       "          -3.9516e-01, -4.4622e-01,  7.4402e-01,  1.5210e+00,  3.4105e+00]],\n",
       "\n",
       "        [[-1.5312e+00, -1.2341e+00,  1.8197e+00, -5.5153e-01, -5.6925e-01,\n",
       "           9.1997e-01,  1.1108e+00,  1.2899e+00, -1.4782e+00,  2.5672e+00,\n",
       "          -4.7312e-01,  3.3555e-01, -1.6293e+00, -5.4974e-01, -4.7983e-01],\n",
       "         [-4.9968e-01, -1.0670e+00,  1.1149e+00, -1.4067e-01,  8.0575e-01,\n",
       "          -9.3348e-02,  6.8705e-01, -8.3832e-01,  8.9182e-04,  8.4189e-01,\n",
       "          -4.0003e-01,  1.0395e+00,  3.5815e-01, -2.4600e-01,  2.3025e+00],\n",
       "         [-1.8817e+00, -4.9727e-02, -1.0450e+00, -9.5650e-01,  3.3532e-02,\n",
       "           7.1009e-01,  1.6459e+00, -1.3602e+00,  3.4457e-01,  5.1987e-01,\n",
       "          -2.6133e+00, -1.6965e+00, -2.2824e-01,  2.7995e-01, -7.0152e-01],\n",
       "         [ 1.0367e+00, -6.0367e-01, -1.2788e+00,  9.2950e-02, -6.6610e-01,\n",
       "           6.0805e-01, -7.3002e-01,  1.3750e+00,  6.5963e-01,  4.7656e-01,\n",
       "          -1.0163e+00,  1.8037e-01,  1.0833e-01, -7.5482e-01,  2.4432e-01]]])"
      ]
     },
     "execution_count": 48,
     "metadata": {},
     "output_type": "execute_result"
    }
   ],
   "source": [
    "query"
   ]
  },
  {
   "cell_type": "code",
   "execution_count": 46,
   "metadata": {},
   "outputs": [
    {
     "name": "stdout",
     "output_type": "stream",
     "text": [
      "tensor([[[[-1.1258e+00, -1.1524e+00, -2.5058e-01, -4.3388e-01,  8.4871e-01],\n",
      "          [ 6.9201e-01, -3.1601e-01, -2.1152e+00,  3.2227e-01, -1.2633e+00],\n",
      "          [ 3.4998e-01,  3.0813e-01,  1.1984e-01,  1.2377e+00,  1.1168e+00],\n",
      "          [-2.4728e-01, -1.3527e+00, -1.6959e+00,  5.6665e-01,  7.9351e-01]],\n",
      "\n",
      "         [[ 5.9884e-01, -1.5551e+00, -3.4136e-01,  1.8530e+00,  7.5019e-01],\n",
      "          [-5.8550e-01, -1.7340e-01,  1.8348e-01,  1.3894e+00,  1.5863e+00],\n",
      "          [ 9.4630e-01, -8.4368e-01, -6.1358e-01,  3.1593e-02, -4.9268e-01],\n",
      "          [ 2.4841e-01,  4.3970e-01,  1.1241e-01,  6.4079e-01,  4.4116e-01]],\n",
      "\n",
      "         [[-1.0231e-01,  7.9244e-01, -2.8967e-01,  5.2507e-02,  5.2286e-01],\n",
      "          [ 2.3022e+00, -1.4689e+00, -1.5867e+00, -6.7309e-01,  8.7283e-01],\n",
      "          [ 1.0554e+00,  1.7784e-01, -2.3034e-01, -3.9175e-01,  5.4329e-01],\n",
      "          [-3.9516e-01, -4.4622e-01,  7.4402e-01,  1.5210e+00,  3.4105e+00]]],\n",
      "\n",
      "\n",
      "        [[[-1.5312e+00, -1.2341e+00,  1.8197e+00, -5.5153e-01, -5.6925e-01],\n",
      "          [ 9.1997e-01,  1.1108e+00,  1.2899e+00, -1.4782e+00,  2.5672e+00],\n",
      "          [-4.7312e-01,  3.3555e-01, -1.6293e+00, -5.4974e-01, -4.7983e-01],\n",
      "          [-4.9968e-01, -1.0670e+00,  1.1149e+00, -1.4067e-01,  8.0575e-01]],\n",
      "\n",
      "         [[-9.3348e-02,  6.8705e-01, -8.3832e-01,  8.9182e-04,  8.4189e-01],\n",
      "          [-4.0003e-01,  1.0395e+00,  3.5815e-01, -2.4600e-01,  2.3025e+00],\n",
      "          [-1.8817e+00, -4.9727e-02, -1.0450e+00, -9.5650e-01,  3.3532e-02],\n",
      "          [ 7.1009e-01,  1.6459e+00, -1.3602e+00,  3.4457e-01,  5.1987e-01]],\n",
      "\n",
      "         [[-2.6133e+00, -1.6965e+00, -2.2824e-01,  2.7995e-01, -7.0152e-01],\n",
      "          [ 1.0367e+00, -6.0367e-01, -1.2788e+00,  9.2950e-02, -6.6610e-01],\n",
      "          [ 6.0805e-01, -7.3002e-01,  1.3750e+00,  6.5963e-01,  4.7656e-01],\n",
      "          [-1.0163e+00,  1.8037e-01,  1.0833e-01, -7.5482e-01,  2.4432e-01]]]])\n"
     ]
    }
   ],
   "source": [
    "torch.manual_seed(seed=0)\n",
    "value = torch.randn(2,3,4,5)\n",
    "print(value)\n",
    "value = value.transpose(1,2).contiguous().view(value.sh)"
   ]
  },
  {
   "cell_type": "code",
   "execution_count": null,
   "metadata": {},
   "outputs": [],
   "source": []
  }
 ],
 "metadata": {
  "kernelspec": {
   "display_name": "base",
   "language": "python",
   "name": "python3"
  },
  "language_info": {
   "codemirror_mode": {
    "name": "ipython",
    "version": 3
   },
   "file_extension": ".py",
   "mimetype": "text/x-python",
   "name": "python",
   "nbconvert_exporter": "python",
   "pygments_lexer": "ipython3",
   "version": "3.12.2"
  }
 },
 "nbformat": 4,
 "nbformat_minor": 2
}
