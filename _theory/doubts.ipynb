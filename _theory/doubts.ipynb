{
 "cells": [
  {
   "cell_type": "markdown",
   "metadata": {},
   "source": [
    "## 20th May 2023\n",
    "Research following topics:\n",
    "\n",
    "- assert\n",
    "- // operator\n",
    "- nn.Linear\n",
    "- nn.Dropout\n",
    "- mask\n",
    "- @ MatMultiplication\n",
    "- transpose\n",
    "- is not None\n",
    "- masked_fill\n",
    "- torch.Tensor.view()\n",
    "- torcn.randn\n",
    "- Changing dimensionality of a torch.Tensor\n",
    "- torch.Tensor.Contiguous()\n"
   ]
  },
  {
   "cell_type": "markdown",
   "metadata": {},
   "source": []
  }
 ],
 "metadata": {
  "language_info": {
   "name": "python"
  }
 },
 "nbformat": 4,
 "nbformat_minor": 2
}
