{
 "cells": [
  {
   "cell_type": "markdown",
   "metadata": {},
   "source": [
    "# CheckList"
   ]
  },
  {
   "cell_type": "markdown",
   "metadata": {},
   "source": [
    "[ done ]  InputEmbeddings\n",
    "\n",
    "[ done ]  PositionalEncoding\n",
    "\n",
    "[ ]  LayerNormalization\n",
    "\n",
    "[ ]  FeedForwardBlock\n",
    "\n",
    "[ ]  ResidualConnection\n",
    "\n",
    "[ ]  MultiheadAttention\n",
    "\n",
    "[ ]  EncoderBlock\n",
    "\n",
    "[ ]  Encoder\n",
    "\n",
    "[ ]  DecoderBlock\n",
    "\n",
    "[ ]  Decoder\n",
    "\n",
    "[ ]  ProjectionLayer\n",
    "\n",
    "[ ]  Transformer\n",
    "\n",
    "[ ]  build_transformer\n"
   ]
  },
  {
   "cell_type": "markdown",
   "metadata": {},
   "source": [
    "\n"
   ]
  }
 ],
 "metadata": {
  "language_info": {
   "name": "python"
  }
 },
 "nbformat": 4,
 "nbformat_minor": 2
}
