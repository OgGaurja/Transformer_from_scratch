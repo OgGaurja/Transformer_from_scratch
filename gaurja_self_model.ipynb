{
 "cells": [
  {
   "cell_type": "code",
   "execution_count": 1,
   "metadata": {},
   "outputs": [],
   "source": [
    "import torch\n",
    "import torch.nn as nn\n",
    "import math"
   ]
  },
  {
   "cell_type": "markdown",
   "metadata": {},
   "source": [
    "# InputEmbeddings\n",
    "\n",
    "=> input to input embeddings = list of indices of tokens\n",
    "\n",
    "=> max index = vocab_size\n",
    "\n",
    "=> output = each index correspond to unique matrix of dimension[dim]"
   ]
  },
  {
   "cell_type": "code",
   "execution_count": 2,
   "metadata": {},
   "outputs": [],
   "source": [
    "class InputEmbeddings(nn.Module):\n",
    "\n",
    "    def __init__(self, vocab_size: int, d_model: int ) -> None:\n",
    "        super().__init__()\n",
    "        self.d_model = d_model\n",
    "        self.vocab_size = vocab_size\n",
    "        self.embedding = nn.Embedding(vocab_size,d_model)\n",
    "\n",
    "    def forward(self,x):\n",
    "        #seq_len = number of words\n",
    "        # (Batch, seq_len) --> (Batch,seq_len, d_model)\n",
    "       return self.embedding(x) * math.sqrt(self.d_model)\n"
   ]
  },
  {
   "cell_type": "markdown",
   "metadata": {},
   "source": [
    "## Positional Encoding"
   ]
  },
  {
   "cell_type": "markdown",
   "metadata": {},
   "source": [
    "### Purpose of Positional encoding?\n",
    "- add to the embedding output but why ??\n",
    "- what to add is decided by formula\n",
    "- different values added to even(sine) and odd(cos) positions in the \n",
    "output of input embedding\n",
    "\n",
    "- output of positional ecoding => seq_len number of [d_model] vectors\n",
    "\n",
    "### Where to add dropout and where not to??"
   ]
  },
  {
   "cell_type": "code",
   "execution_count": 3,
   "metadata": {},
   "outputs": [],
   "source": [
    "class PositionalEncoding(nn.Module):\n",
    "\n",
    "    def __init__(self, d_model: int, seq_len: int, dropout: float) -> None:\n",
    "        super().__init__()\n",
    "        self.d_model = d_model\n",
    "        self.seq_len = seq_len\n",
    "        self.dropout = nn.Dropout(dropout)\n",
    "        # Create a matrix of shape (seq_len, d_model)\n",
    "        pe = torch.zeros(seq_len, d_model)\n",
    "        # Create a vector of shape (seq_len)\n",
    "        position = torch.arange(0, seq_len, dtype=torch.float).unsqueeze(1) # (seq_len, 1)\n",
    "        # Create a vector of shape (d_model)\n",
    "        div_term = torch.exp(torch.arange(0, d_model, 2).float() * (-math.log(10000.0) / d_model)) # (d_model / 2)\n",
    "        # Apply sine to even indices\n",
    "        pe[:, 0::2] = torch.sin(position * div_term) # sin(position * (10000 ** (2i / d_model))\n",
    "        # Apply cosine to odd indices\n",
    "        pe[:, 1::2] = torch.cos(position * div_term) # cos(position * (10000 ** (2i / d_model))\n",
    "        # Add a batch dimension to the positional encoding\n",
    "        pe = pe.unsqueeze(0) # (1, seq_len, d_model)\n",
    "        # Register the positional encoding as a buffer\n",
    "        self.register_buffer('pe', pe)\n",
    "\n",
    "    def forward(self, x):\n",
    "        x = x + (self.pe[:, :x.shape[1], :]).requires_grad_(False) # (batch, seq_len, d_model)\n",
    "        return self.dropout(x)    "
   ]
  },
  {
   "cell_type": "markdown",
   "metadata": {},
   "source": [
    "# LayerNormalization\n",
    "=> tensor that is to be considered a module parameter\n",
    "\n",
    "=> used for defining learnable parameters\n",
    "\n",
    "=> tensor will be added to list of the model's parameters\n",
    "\n",
    "=> model.parameters()\n",
    "\n",
    "=> model.state.dict() # will appear in parameter list"
   ]
  },
  {
   "cell_type": "code",
   "execution_count": 4,
   "metadata": {},
   "outputs": [],
   "source": [
    "\n",
    "class LayerNormalization(nn.Module):\n",
    "\n",
    "    def __init__(self,eps: float = 10**-6 ) -> None:\n",
    "        super().__init__()\n",
    "\n",
    "        self.eps = eps\n",
    "\n",
    "        # Create learable parameter\n",
    "        self.alpha = nn.Parameter(torch.ones(1))\n",
    "        self.bias = nn.Parameter(torch.ones(1))\n",
    "\n",
    "\n",
    "    def forward(self, x):\n",
    "\n",
    "       mean = x.mean(dim= -1, keepdim= True)     \n",
    "       std = x.std(dim= -1, keepdim= True)\n",
    "       return self.alpha * (x - mean)/(std + self.eps) + self.bias\n"
   ]
  },
  {
   "cell_type": "markdown",
   "metadata": {},
   "source": [
    "##  dim and keepdim\n",
    "=> mean calculated along a specified dimension"
   ]
  },
  {
   "cell_type": "code",
   "execution_count": 5,
   "metadata": {},
   "outputs": [
    {
     "name": "stdout",
     "output_type": "stream",
     "text": [
      "simple mean with keepdim = False tensor([-0.3104, -0.6382,  0.1740])\n",
      "Keep dim = True mean tensor([[-0.3104],\n",
      "        [-0.6382],\n",
      "        [ 0.1740]])\n"
     ]
    }
   ],
   "source": [
    "torch.manual_seed(seed=0)\n",
    "a = torch.randn(3,3)\n",
    "## by default takes the last dimension\n",
    "print(f\"simple mean with keepdim = False {a.mean(dim = -1)}\")\n",
    "print(f\"Keep dim = True mean {a.mean(dim =-1,keepdim=True)}\")\n",
    "# print(f\"simple mean {a.mean()}\")"
   ]
  },
  {
   "cell_type": "markdown",
   "metadata": {},
   "source": [
    "# FeedForward \n",
    "=> Fully connected layer\n",
    "\n",
    "=> Linear layer => ReLU => Linear layer\n",
    "\n",
    "=> d_model x d_ff\n",
    "\n",
    "=> d_ff x d_model"
   ]
  },
  {
   "cell_type": "code",
   "execution_count": 6,
   "metadata": {},
   "outputs": [],
   "source": [
    "class FeedForwardBlock(nn.Module):\n",
    "\n",
    "    def __init__(self, d_model: int, d_ff: int, dropout: float) -> None:\n",
    "        super().__init__()\n",
    "\n",
    "        self.linear1 = nn.Linear(d_model, d_ff) #w1 and b1\n",
    "        self.dropout = nn.Dropout(dropout)\n",
    "        self.linear2 = nn.Linear(d_ff, d_model) #w2 and b2\n",
    "\n",
    "\n",
    "    def forward(self, x):\n",
    "\n",
    "        # first linear transformation\n",
    "        # (Batch, seq_len,d_model) --> (Batch, seq_len, d_ff)\n",
    "        x = self.linear1(x)\n",
    "        # apply relu\n",
    "        x  = torch.relu(x)\n",
    "        # apply dropout to reduce overfitting\n",
    "        x = self.dropout(x)\n",
    "        # second linear transformation    \n",
    "        # (Batch, seq_len, d_ff) --> (Batch, seq_len,d_model)\n",
    "        x = self.linear2(x)\n",
    "\n",
    "        return x"
   ]
  },
  {
   "cell_type": "markdown",
   "metadata": {},
   "source": [
    "# ReLU (Rectified Linear Unit) Activation function\n",
    "=> introduces nonlinearity\n",
    "\n",
    "=>ReLU(x)=max(0,x)\n",
    "\n",
    "=> this function replaces 0 value when x is smaller or equal to zero,otherwise it remains x"
   ]
  },
  {
   "cell_type": "code",
   "execution_count": 7,
   "metadata": {},
   "outputs": [
    {
     "data": {
      "text/plain": [
       "tensor([0, 2, 0, 4])"
      ]
     },
     "execution_count": 7,
     "metadata": {},
     "output_type": "execute_result"
    }
   ],
   "source": [
    "test_relu = torch.tensor([-1,2,-3,4])\n",
    "\n",
    "reluLayer = nn.ReLU()\n",
    "reluLayer(test_relu)"
   ]
  },
  {
   "cell_type": "markdown",
   "metadata": {},
   "source": [
    "# MultiheadAttention Block"
   ]
  },
  {
   "cell_type": "code",
   "execution_count": 8,
   "metadata": {},
   "outputs": [],
   "source": [
    "class MultiheadAttentionBlock(nn.Module):\n",
    "\n",
    "    def __init__(self, d_model: int, dropout: int, h: int) -> None:\n",
    "        super().__init__()\n",
    "\n",
    "        self.d_model = d_model\n",
    "        self.dropout = nn.Dropout(dropout)\n",
    "        self.h = h \n",
    "\n",
    "        ## Customizing AssertionError =>\n",
    "        assert d_model % h == 0, \"d_model not completely divisible by h\"\n",
    "\n",
    "        self.d_k = d_model//h # // for integral division\n",
    "\n",
    "        ## Creating LinearMatrixes \n",
    "        self.w_q = nn.Linear(d_model, d_model) #Wq\n",
    "        self.w_k = nn.Linear(d_model, d_model) #Wk\n",
    "        self.w_v = nn.Linear(d_model, d_model) #Wv\n",
    "\n",
    "        self.w_o = nn.Linear(d_model, d_model) #Wo\n",
    "\n",
    "\n",
    "    ## Static method\n",
    "    @staticmethod\n",
    "    def attention(query, key, value, mask, dropout: nn.Dropout):\n",
    "\n",
    "        d_k = query.shape[-1] # (Batch,h, seq_len, d_k)\n",
    "\n",
    "        # (Batch,h, seq_len, d_k) @ (Batch,h, d_k,seq_len)\n",
    "        attention_scores = query @ key.transpose(-1,-12) #(Batch,h, seq_len, seq_len)\n",
    "\n",
    "        ## Applying Mask before Softmax        \n",
    "\n",
    "        # apply mask\n",
    "        if mask is not None:\n",
    "            attention_scores.masked_fill(mask == 0, -1e9)\n",
    "\n",
    "        attention_scores = attention_scores.softmax(dim = -1) #(Batch,h, seq_len, seq_len)\n",
    "\n",
    "        if dropout is not None:\n",
    "            attention_scores = dropout(attention_scores)\n",
    "\n",
    "        # returning a Tuple\n",
    "        ## (Batch,h, seq_len, seq_len) 2 (Batch,h, seq_len, d_k) --> (Batch,h, seq_len, d_k)\n",
    "        return (attention_scores @ value), attention_scores    \n",
    "\n",
    "\n",
    "\n",
    "\n",
    "    def forward(self, q,k,v, mask):\n",
    "\n",
    "        query = self.w_q(q)    # (Batch, Seq_len, d_model) -->(Batch, Seq_len, d_model)\n",
    "        key = self.w_k(k)    # (Batch, Seq_len, d_model) -->(Batch, Seq_len, d_model)\n",
    "        value = self.w_v(v)    # (Batch, Seq_len, d_model) -->(Batch, Seq_len, d_model)\n",
    "\n",
    "        ## Dividing the query, key and value matrixes into head number of matrices\n",
    "\n",
    "        #(Batch, seq_len, d_model) --> (Batch, seq_len, h, d_k) --> (Batch, h, seq_len, d_k)\n",
    "        ### Converting it directly is Incorrect. That much has been validated\n",
    "        ### Why it is incorrect ? Yet to research\n",
    "\n",
    "        query = query.view(query.shape[0], query.shape[1],self.h, self.d_k).transpose(1,2)\n",
    "        key = key.view(key.shape[0], key.shape[1],self.h, self.d_k).transpose(1,2)\n",
    "        value = value.view(value.shape[0], value.shape[1],self.h, self.d_k).transpose(1,2)\n",
    "\n",
    "\n",
    "        ## Applying attention function\n",
    "        x,self.attention_scores = MultiheadAttentionBlock().attention(query, key, value,mask,self.dropout)\n",
    "\n",
    "        # (Batch,h, seq_len, d_k) --> (Batch, seq_len , h, d_k ) --> (Batch, seq_len, h * d_k)\n",
    "        x = x.transpose(1,2).contiguous().view(x.shape[0], -1, self.h * self.d_k)\n",
    "\n",
    "        # (Batch, seq_len, d_model) --> (Batch, seq_len, d_model)\n",
    "        return self.w_o(x) \n",
    "\n",
    "        \n",
    "\n",
    "        \n"
   ]
  },
  {
   "cell_type": "markdown",
   "metadata": {},
   "source": [
    "## Residual Connections\n",
    "\n",
    "=> Manages skip connection"
   ]
  },
  {
   "cell_type": "code",
   "execution_count": 9,
   "metadata": {},
   "outputs": [],
   "source": [
    "class ResidualConnections(nn.Module):\n",
    "\n",
    "    def __init__(self,dropout: float ) -> None:\n",
    "        super().__init__()\n",
    "        self.dropout = nn.Dropout(droput)\n",
    "        self.norm = LayerNormalization()\n",
    "\n",
    "\n",
    "    def forward(self, x, sublayer):\n",
    "\n",
    "        ### we are here applying normalization first \n",
    "        # then the sublayer\n",
    "        return x+ self.dropout(sublayer(self.norm(x)))    \n"
   ]
  },
  {
   "cell_type": "markdown",
   "metadata": {},
   "source": [
    "# Encoder Block\n",
    "\n",
    "=> Encoder block made up of two layers\n",
    "\n",
    "=> One residual made up of multihead and add and norm\n",
    "\n",
    "=> Second residual made up of feed forward and add and norm"
   ]
  },
  {
   "cell_type": "code",
   "execution_count": 10,
   "metadata": {},
   "outputs": [],
   "source": [
    "class EncoderBlock(nn.Module):\n",
    "\n",
    "    def __init__(self, self_attention_block: MultiheadAttentionBlock, feed_forward_block: FeedForwardBlock,dropout:float) -> None:\n",
    "        super().__init__()\n",
    "\n",
    "        self.self_attention_block = self_attention_block\n",
    "        self.feed_forward_block = feed_forward_block\n",
    "        self.residual_connections = nn.ModuleList([ResidualConnections(droput=dropout) for _ in range(2)])\n",
    "\n",
    "\n",
    "    def forward(self, x, mask):\n",
    "        # first residual connection\n",
    "        ## why Lambda functtion ??\n",
    "        x = self.residual_connections[0](x,lambda x: self.self_attention_block(x,x,x,mask))\n",
    "\n",
    "        # Second residual connection\n",
    "        ## Why doesn't this take x ??\n",
    "        x = self.residual_connections[1](x, self.feed_forward_block(x))\n",
    "        return x\n",
    "            \n",
    "\n",
    "        "
   ]
  },
  {
   "cell_type": "markdown",
   "metadata": {},
   "source": [
    "# Encoder"
   ]
  },
  {
   "cell_type": "code",
   "execution_count": 11,
   "metadata": {},
   "outputs": [],
   "source": [
    "class Encoder(nn.Module):\n",
    "\n",
    "    def __init__(self, layers: nn.ModuleList) -> None:\n",
    "        super().__init__()\n",
    "        self.layers = layers\n",
    "        self.norm = LayerNormalization()\n",
    "\n",
    "    def forward(self,x, mask):\n",
    "        for layer in self.layers:\n",
    "            x = layer(x, mask)\n",
    "        return x            "
   ]
  },
  {
   "cell_type": "markdown",
   "metadata": {},
   "source": [
    "# DecoderBlock\n",
    "=> Decoder consists of three layers each followed by add and Norm\n",
    "\n",
    "=> Self attentionnorm\n",
    "\n",
    "=> Cross attention(q from decoder and k and v from encoder output)\n",
    "\n",
    "=> Feed Forward "
   ]
  },
  {
   "cell_type": "code",
   "execution_count": 12,
   "metadata": {},
   "outputs": [],
   "source": [
    "class DecoderBlock(nn.Module):\n",
    "\n",
    "    def __init__(self,dropout:float, self_attention_block: MultiheadAttentionBlock, \n",
    "                 cross_attention_block: MultiheadAttentionBlock, feed_forward_block: FeedForwardBlock ) -> None:\n",
    "        super().__init__()\n",
    "\n",
    "        self.self_attention_block = self_attention_block\n",
    "        self.cross_attention_block = cross_attention_block\n",
    "        self.feed_forward_block = feed_forward_block\n",
    "        self.residual_connections = nn.ModuleList([ResidualConnections(dropout= dropout) for _ in range(3)])\n",
    "\n",
    "    def forward(self, x, encoder_output,src_mask, tgt_mask):\n",
    "\n",
    "        # first residual connection\n",
    "        x = self.residual_connections[0](x,lambda x: self.self_attention_block(x,x,x,tgt_mask))\n",
    "\n",
    "        # second residual connection\n",
    "        x = self.residual_connections[1](x,lambda x: self.cross_attention_block(x,encoder_output,encoder_output,src_mask))\n",
    "     \n",
    "        # third residual connection\n",
    "        x = self.residual_connections[2](x, self.feed_forward_block(x))\n",
    "\n",
    "        return x"
   ]
  },
  {
   "cell_type": "markdown",
   "metadata": {},
   "source": [
    "# Decoder"
   ]
  },
  {
   "cell_type": "code",
   "execution_count": 13,
   "metadata": {},
   "outputs": [],
   "source": [
    "class Decoder(nn.Module):\n",
    "\n",
    "    def __init__(self, layers: nn.ModuleList) -> None:\n",
    "        super().__init__()\n",
    "        self.layers = layers\n",
    "        self.norm = LayerNormalization()\n",
    "\n",
    "\n",
    "    def forward(self, x, encoder_output, src_mask, tgt_mask):\n",
    "        for layer in self.layers:\n",
    "            layer(x, encoder_output,src_mask, tgt_mask)\n",
    "\n",
    "        return self.norm(x)        "
   ]
  },
  {
   "cell_type": "markdown",
   "metadata": {},
   "source": [
    "# ProjectionLayer\n",
    "=> The linear layer on the output of the decoder\n",
    "\n",
    "=> Converts (Batch, seq_len, d_model) --> (Batch, seq_len, vocab_size)\n",
    "\n",
    "=> Apply log_softmax at the end"
   ]
  },
  {
   "cell_type": "code",
   "execution_count": 14,
   "metadata": {},
   "outputs": [],
   "source": [
    "class ProjectionLayer(nn.Module):\n",
    "\n",
    "    def __init__(self, d_model: int, vocab_size: int) -> None:\n",
    "        super().__init__()\n",
    "        \n",
    "        self.projection = nn.Linear(d_model,vocab_size)\n",
    "\n",
    "\n",
    "    def forward(self,x):\n",
    "        return torch.log_softmax(self.projection(x), dim=-1)    \n",
    "\n"
   ]
  },
  {
   "cell_type": "markdown",
   "metadata": {},
   "source": [
    "# Transformer\n",
    "\n",
    "=> encoder + input embeddings + positional embeddings\n",
    "\n",
    "=> decoder + input embeddings + positional encodings\n",
    "\n",
    "=> Projection Layer"
   ]
  },
  {
   "cell_type": "code",
   "execution_count": 15,
   "metadata": {},
   "outputs": [],
   "source": [
    "class Transformer(nn.Module):\n",
    "\n",
    "    def __init__(self, encoder: Encoder, decoder: Decoder, src_embed: InputEmbeddings, tgt_embed: InputEmbeddings, src_pos: PositionalEncoding, tgt_pos: PositionalEncoding, projection_layer: ProjectionLayer) -> None:\n",
    "        super().__init__()\n",
    "\n",
    "        self.encoder = encoder\n",
    "        self.decoder = decoder\n",
    "        self.src_embed = src_embed\n",
    "        self.tgt_embed = tgt_embed\n",
    "        self.src_pos = src_pos\n",
    "        self.tgt_pos = tgt_pos\n",
    "        self.projection_layer = projection_layer\n",
    "\n",
    "\n",
    "    #### Instead of having a single forward\n",
    "    # we will have three functions\n",
    "    # encoder, decoder and project\n",
    "\n",
    "    def encode(self,src, mask):\n",
    "        src = self.src_embed(src) # input embeddings\n",
    "        src = self.src_pos(src) # positional embeddings\n",
    "        return self.encoder(src, mask) # then to the encoder\n",
    "    \n",
    "    def decode(self,x, encoder_output, src_mask, tgt_mask):\n",
    "        x = self.tgt_embed(x)\n",
    "        x =self.tgt_pos(x)\n",
    "        return self.decoder(x, encoder_output, src_mask, tgt_mask)\n",
    "    \n",
    "\n",
    "    def project(self,x):\n",
    "        return self.projection_layer(x)\n",
    "\n"
   ]
  },
  {
   "cell_type": "code",
   "execution_count": null,
   "metadata": {},
   "outputs": [],
   "source": []
  },
  {
   "cell_type": "code",
   "execution_count": null,
   "metadata": {},
   "outputs": [],
   "source": []
  }
 ],
 "metadata": {
  "kernelspec": {
   "display_name": "Python 3",
   "language": "python",
   "name": "python3"
  },
  "language_info": {
   "codemirror_mode": {
    "name": "ipython",
    "version": 3
   },
   "file_extension": ".py",
   "mimetype": "text/x-python",
   "name": "python",
   "nbconvert_exporter": "python",
   "pygments_lexer": "ipython3",
   "version": "3.12.2"
  }
 },
 "nbformat": 4,
 "nbformat_minor": 2
}
